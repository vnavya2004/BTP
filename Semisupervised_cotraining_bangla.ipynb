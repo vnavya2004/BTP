{
  "nbformat": 4,
  "nbformat_minor": 0,
  "metadata": {
    "colab": {
      "provenance": [],
      "gpuType": "T4",
      "include_colab_link": true
    },
    "kernelspec": {
      "name": "python3",
      "display_name": "Python 3"
    },
    "language_info": {
      "name": "python"
    },
    "accelerator": "GPU",
    "widgets": {
      "application/vnd.jupyter.widget-state+json": {
        "e65a871b9f1640608a25d1473fd92136": {
          "model_module": "@jupyter-widgets/controls",
          "model_name": "HBoxModel",
          "model_module_version": "1.5.0",
          "state": {
            "_dom_classes": [],
            "_model_module": "@jupyter-widgets/controls",
            "_model_module_version": "1.5.0",
            "_model_name": "HBoxModel",
            "_view_count": null,
            "_view_module": "@jupyter-widgets/controls",
            "_view_module_version": "1.5.0",
            "_view_name": "HBoxView",
            "box_style": "",
            "children": [
              "IPY_MODEL_c3cbfee5d3704739955b599e83e2e501",
              "IPY_MODEL_f88920566cf4407bbf8d9a3b4ef19015",
              "IPY_MODEL_ec8b77f3f6b9485faf4812f58f7dc69e"
            ],
            "layout": "IPY_MODEL_7f8ce726ae81497fbcea78bab7534779"
          }
        },
        "c3cbfee5d3704739955b599e83e2e501": {
          "model_module": "@jupyter-widgets/controls",
          "model_name": "HTMLModel",
          "model_module_version": "1.5.0",
          "state": {
            "_dom_classes": [],
            "_model_module": "@jupyter-widgets/controls",
            "_model_module_version": "1.5.0",
            "_model_name": "HTMLModel",
            "_view_count": null,
            "_view_module": "@jupyter-widgets/controls",
            "_view_module_version": "1.5.0",
            "_view_name": "HTMLView",
            "description": "",
            "description_tooltip": null,
            "layout": "IPY_MODEL_d0b1770ccdc84f0080d009324864bc6d",
            "placeholder": "​",
            "style": "IPY_MODEL_5d7d507e3c2348fe89feb3f35e737095",
            "value": "model.safetensors: 100%"
          }
        },
        "f88920566cf4407bbf8d9a3b4ef19015": {
          "model_module": "@jupyter-widgets/controls",
          "model_name": "FloatProgressModel",
          "model_module_version": "1.5.0",
          "state": {
            "_dom_classes": [],
            "_model_module": "@jupyter-widgets/controls",
            "_model_module_version": "1.5.0",
            "_model_name": "FloatProgressModel",
            "_view_count": null,
            "_view_module": "@jupyter-widgets/controls",
            "_view_module_version": "1.5.0",
            "_view_name": "ProgressView",
            "bar_style": "success",
            "description": "",
            "description_tooltip": null,
            "layout": "IPY_MODEL_d00baf92741742338cf85da625f39f1d",
            "max": 1115567652,
            "min": 0,
            "orientation": "horizontal",
            "style": "IPY_MODEL_19db130d3cb54caba889097ef3b1b342",
            "value": 1115567652
          }
        },
        "ec8b77f3f6b9485faf4812f58f7dc69e": {
          "model_module": "@jupyter-widgets/controls",
          "model_name": "HTMLModel",
          "model_module_version": "1.5.0",
          "state": {
            "_dom_classes": [],
            "_model_module": "@jupyter-widgets/controls",
            "_model_module_version": "1.5.0",
            "_model_name": "HTMLModel",
            "_view_count": null,
            "_view_module": "@jupyter-widgets/controls",
            "_view_module_version": "1.5.0",
            "_view_name": "HTMLView",
            "description": "",
            "description_tooltip": null,
            "layout": "IPY_MODEL_a06b37d4438441a2b1c370ea4ac8a6a0",
            "placeholder": "​",
            "style": "IPY_MODEL_62dcd9ed5c3349d1bd3f00dbf8cb151d",
            "value": " 1.12G/1.12G [00:05&lt;00:00, 224MB/s]"
          }
        },
        "7f8ce726ae81497fbcea78bab7534779": {
          "model_module": "@jupyter-widgets/base",
          "model_name": "LayoutModel",
          "model_module_version": "1.2.0",
          "state": {
            "_model_module": "@jupyter-widgets/base",
            "_model_module_version": "1.2.0",
            "_model_name": "LayoutModel",
            "_view_count": null,
            "_view_module": "@jupyter-widgets/base",
            "_view_module_version": "1.2.0",
            "_view_name": "LayoutView",
            "align_content": null,
            "align_items": null,
            "align_self": null,
            "border": null,
            "bottom": null,
            "display": null,
            "flex": null,
            "flex_flow": null,
            "grid_area": null,
            "grid_auto_columns": null,
            "grid_auto_flow": null,
            "grid_auto_rows": null,
            "grid_column": null,
            "grid_gap": null,
            "grid_row": null,
            "grid_template_areas": null,
            "grid_template_columns": null,
            "grid_template_rows": null,
            "height": null,
            "justify_content": null,
            "justify_items": null,
            "left": null,
            "margin": null,
            "max_height": null,
            "max_width": null,
            "min_height": null,
            "min_width": null,
            "object_fit": null,
            "object_position": null,
            "order": null,
            "overflow": null,
            "overflow_x": null,
            "overflow_y": null,
            "padding": null,
            "right": null,
            "top": null,
            "visibility": null,
            "width": null
          }
        },
        "d0b1770ccdc84f0080d009324864bc6d": {
          "model_module": "@jupyter-widgets/base",
          "model_name": "LayoutModel",
          "model_module_version": "1.2.0",
          "state": {
            "_model_module": "@jupyter-widgets/base",
            "_model_module_version": "1.2.0",
            "_model_name": "LayoutModel",
            "_view_count": null,
            "_view_module": "@jupyter-widgets/base",
            "_view_module_version": "1.2.0",
            "_view_name": "LayoutView",
            "align_content": null,
            "align_items": null,
            "align_self": null,
            "border": null,
            "bottom": null,
            "display": null,
            "flex": null,
            "flex_flow": null,
            "grid_area": null,
            "grid_auto_columns": null,
            "grid_auto_flow": null,
            "grid_auto_rows": null,
            "grid_column": null,
            "grid_gap": null,
            "grid_row": null,
            "grid_template_areas": null,
            "grid_template_columns": null,
            "grid_template_rows": null,
            "height": null,
            "justify_content": null,
            "justify_items": null,
            "left": null,
            "margin": null,
            "max_height": null,
            "max_width": null,
            "min_height": null,
            "min_width": null,
            "object_fit": null,
            "object_position": null,
            "order": null,
            "overflow": null,
            "overflow_x": null,
            "overflow_y": null,
            "padding": null,
            "right": null,
            "top": null,
            "visibility": null,
            "width": null
          }
        },
        "5d7d507e3c2348fe89feb3f35e737095": {
          "model_module": "@jupyter-widgets/controls",
          "model_name": "DescriptionStyleModel",
          "model_module_version": "1.5.0",
          "state": {
            "_model_module": "@jupyter-widgets/controls",
            "_model_module_version": "1.5.0",
            "_model_name": "DescriptionStyleModel",
            "_view_count": null,
            "_view_module": "@jupyter-widgets/base",
            "_view_module_version": "1.2.0",
            "_view_name": "StyleView",
            "description_width": ""
          }
        },
        "d00baf92741742338cf85da625f39f1d": {
          "model_module": "@jupyter-widgets/base",
          "model_name": "LayoutModel",
          "model_module_version": "1.2.0",
          "state": {
            "_model_module": "@jupyter-widgets/base",
            "_model_module_version": "1.2.0",
            "_model_name": "LayoutModel",
            "_view_count": null,
            "_view_module": "@jupyter-widgets/base",
            "_view_module_version": "1.2.0",
            "_view_name": "LayoutView",
            "align_content": null,
            "align_items": null,
            "align_self": null,
            "border": null,
            "bottom": null,
            "display": null,
            "flex": null,
            "flex_flow": null,
            "grid_area": null,
            "grid_auto_columns": null,
            "grid_auto_flow": null,
            "grid_auto_rows": null,
            "grid_column": null,
            "grid_gap": null,
            "grid_row": null,
            "grid_template_areas": null,
            "grid_template_columns": null,
            "grid_template_rows": null,
            "height": null,
            "justify_content": null,
            "justify_items": null,
            "left": null,
            "margin": null,
            "max_height": null,
            "max_width": null,
            "min_height": null,
            "min_width": null,
            "object_fit": null,
            "object_position": null,
            "order": null,
            "overflow": null,
            "overflow_x": null,
            "overflow_y": null,
            "padding": null,
            "right": null,
            "top": null,
            "visibility": null,
            "width": null
          }
        },
        "19db130d3cb54caba889097ef3b1b342": {
          "model_module": "@jupyter-widgets/controls",
          "model_name": "ProgressStyleModel",
          "model_module_version": "1.5.0",
          "state": {
            "_model_module": "@jupyter-widgets/controls",
            "_model_module_version": "1.5.0",
            "_model_name": "ProgressStyleModel",
            "_view_count": null,
            "_view_module": "@jupyter-widgets/base",
            "_view_module_version": "1.2.0",
            "_view_name": "StyleView",
            "bar_color": null,
            "description_width": ""
          }
        },
        "a06b37d4438441a2b1c370ea4ac8a6a0": {
          "model_module": "@jupyter-widgets/base",
          "model_name": "LayoutModel",
          "model_module_version": "1.2.0",
          "state": {
            "_model_module": "@jupyter-widgets/base",
            "_model_module_version": "1.2.0",
            "_model_name": "LayoutModel",
            "_view_count": null,
            "_view_module": "@jupyter-widgets/base",
            "_view_module_version": "1.2.0",
            "_view_name": "LayoutView",
            "align_content": null,
            "align_items": null,
            "align_self": null,
            "border": null,
            "bottom": null,
            "display": null,
            "flex": null,
            "flex_flow": null,
            "grid_area": null,
            "grid_auto_columns": null,
            "grid_auto_flow": null,
            "grid_auto_rows": null,
            "grid_column": null,
            "grid_gap": null,
            "grid_row": null,
            "grid_template_areas": null,
            "grid_template_columns": null,
            "grid_template_rows": null,
            "height": null,
            "justify_content": null,
            "justify_items": null,
            "left": null,
            "margin": null,
            "max_height": null,
            "max_width": null,
            "min_height": null,
            "min_width": null,
            "object_fit": null,
            "object_position": null,
            "order": null,
            "overflow": null,
            "overflow_x": null,
            "overflow_y": null,
            "padding": null,
            "right": null,
            "top": null,
            "visibility": null,
            "width": null
          }
        },
        "62dcd9ed5c3349d1bd3f00dbf8cb151d": {
          "model_module": "@jupyter-widgets/controls",
          "model_name": "DescriptionStyleModel",
          "model_module_version": "1.5.0",
          "state": {
            "_model_module": "@jupyter-widgets/controls",
            "_model_module_version": "1.5.0",
            "_model_name": "DescriptionStyleModel",
            "_view_count": null,
            "_view_module": "@jupyter-widgets/base",
            "_view_module_version": "1.2.0",
            "_view_name": "StyleView",
            "description_width": ""
          }
        }
      }
    }
  },
  "cells": [
    {
      "cell_type": "markdown",
      "metadata": {
        "id": "view-in-github",
        "colab_type": "text"
      },
      "source": [
        "<a href=\"https://colab.research.google.com/github/vnavya2004/BTP/blob/main/Semisupervised_cotraining_bangla.ipynb\" target=\"_parent\"><img src=\"https://colab.research.google.com/assets/colab-badge.svg\" alt=\"Open In Colab\"/></a>"
      ]
    },
    {
      "cell_type": "code",
      "execution_count": 2,
      "metadata": {
        "colab": {
          "base_uri": "https://localhost:8080/",
          "height": 1000,
          "referenced_widgets": [
            "e65a871b9f1640608a25d1473fd92136",
            "c3cbfee5d3704739955b599e83e2e501",
            "f88920566cf4407bbf8d9a3b4ef19015",
            "ec8b77f3f6b9485faf4812f58f7dc69e",
            "7f8ce726ae81497fbcea78bab7534779",
            "d0b1770ccdc84f0080d009324864bc6d",
            "5d7d507e3c2348fe89feb3f35e737095",
            "d00baf92741742338cf85da625f39f1d",
            "19db130d3cb54caba889097ef3b1b342",
            "a06b37d4438441a2b1c370ea4ac8a6a0",
            "62dcd9ed5c3349d1bd3f00dbf8cb151d"
          ]
        },
        "id": "Fg4oQi6RNTOo",
        "outputId": "2b215866-6f11-40a4-dce8-0769c6b63dcd"
      },
      "outputs": [
        {
          "output_type": "display_data",
          "data": {
            "text/plain": [
              "<IPython.core.display.HTML object>"
            ],
            "text/html": [
              "\n",
              "     <input type=\"file\" id=\"files-109027ce-74b4-4950-b933-f819c9dfd1dc\" name=\"files[]\" multiple disabled\n",
              "        style=\"border:none\" />\n",
              "     <output id=\"result-109027ce-74b4-4950-b933-f819c9dfd1dc\">\n",
              "      Upload widget is only available when the cell has been executed in the\n",
              "      current browser session. Please rerun this cell to enable.\n",
              "      </output>\n",
              "      <script>// Copyright 2017 Google LLC\n",
              "//\n",
              "// Licensed under the Apache License, Version 2.0 (the \"License\");\n",
              "// you may not use this file except in compliance with the License.\n",
              "// You may obtain a copy of the License at\n",
              "//\n",
              "//      http://www.apache.org/licenses/LICENSE-2.0\n",
              "//\n",
              "// Unless required by applicable law or agreed to in writing, software\n",
              "// distributed under the License is distributed on an \"AS IS\" BASIS,\n",
              "// WITHOUT WARRANTIES OR CONDITIONS OF ANY KIND, either express or implied.\n",
              "// See the License for the specific language governing permissions and\n",
              "// limitations under the License.\n",
              "\n",
              "/**\n",
              " * @fileoverview Helpers for google.colab Python module.\n",
              " */\n",
              "(function(scope) {\n",
              "function span(text, styleAttributes = {}) {\n",
              "  const element = document.createElement('span');\n",
              "  element.textContent = text;\n",
              "  for (const key of Object.keys(styleAttributes)) {\n",
              "    element.style[key] = styleAttributes[key];\n",
              "  }\n",
              "  return element;\n",
              "}\n",
              "\n",
              "// Max number of bytes which will be uploaded at a time.\n",
              "const MAX_PAYLOAD_SIZE = 100 * 1024;\n",
              "\n",
              "function _uploadFiles(inputId, outputId) {\n",
              "  const steps = uploadFilesStep(inputId, outputId);\n",
              "  const outputElement = document.getElementById(outputId);\n",
              "  // Cache steps on the outputElement to make it available for the next call\n",
              "  // to uploadFilesContinue from Python.\n",
              "  outputElement.steps = steps;\n",
              "\n",
              "  return _uploadFilesContinue(outputId);\n",
              "}\n",
              "\n",
              "// This is roughly an async generator (not supported in the browser yet),\n",
              "// where there are multiple asynchronous steps and the Python side is going\n",
              "// to poll for completion of each step.\n",
              "// This uses a Promise to block the python side on completion of each step,\n",
              "// then passes the result of the previous step as the input to the next step.\n",
              "function _uploadFilesContinue(outputId) {\n",
              "  const outputElement = document.getElementById(outputId);\n",
              "  const steps = outputElement.steps;\n",
              "\n",
              "  const next = steps.next(outputElement.lastPromiseValue);\n",
              "  return Promise.resolve(next.value.promise).then((value) => {\n",
              "    // Cache the last promise value to make it available to the next\n",
              "    // step of the generator.\n",
              "    outputElement.lastPromiseValue = value;\n",
              "    return next.value.response;\n",
              "  });\n",
              "}\n",
              "\n",
              "/**\n",
              " * Generator function which is called between each async step of the upload\n",
              " * process.\n",
              " * @param {string} inputId Element ID of the input file picker element.\n",
              " * @param {string} outputId Element ID of the output display.\n",
              " * @return {!Iterable<!Object>} Iterable of next steps.\n",
              " */\n",
              "function* uploadFilesStep(inputId, outputId) {\n",
              "  const inputElement = document.getElementById(inputId);\n",
              "  inputElement.disabled = false;\n",
              "\n",
              "  const outputElement = document.getElementById(outputId);\n",
              "  outputElement.innerHTML = '';\n",
              "\n",
              "  const pickedPromise = new Promise((resolve) => {\n",
              "    inputElement.addEventListener('change', (e) => {\n",
              "      resolve(e.target.files);\n",
              "    });\n",
              "  });\n",
              "\n",
              "  const cancel = document.createElement('button');\n",
              "  inputElement.parentElement.appendChild(cancel);\n",
              "  cancel.textContent = 'Cancel upload';\n",
              "  const cancelPromise = new Promise((resolve) => {\n",
              "    cancel.onclick = () => {\n",
              "      resolve(null);\n",
              "    };\n",
              "  });\n",
              "\n",
              "  // Wait for the user to pick the files.\n",
              "  const files = yield {\n",
              "    promise: Promise.race([pickedPromise, cancelPromise]),\n",
              "    response: {\n",
              "      action: 'starting',\n",
              "    }\n",
              "  };\n",
              "\n",
              "  cancel.remove();\n",
              "\n",
              "  // Disable the input element since further picks are not allowed.\n",
              "  inputElement.disabled = true;\n",
              "\n",
              "  if (!files) {\n",
              "    return {\n",
              "      response: {\n",
              "        action: 'complete',\n",
              "      }\n",
              "    };\n",
              "  }\n",
              "\n",
              "  for (const file of files) {\n",
              "    const li = document.createElement('li');\n",
              "    li.append(span(file.name, {fontWeight: 'bold'}));\n",
              "    li.append(span(\n",
              "        `(${file.type || 'n/a'}) - ${file.size} bytes, ` +\n",
              "        `last modified: ${\n",
              "            file.lastModifiedDate ? file.lastModifiedDate.toLocaleDateString() :\n",
              "                                    'n/a'} - `));\n",
              "    const percent = span('0% done');\n",
              "    li.appendChild(percent);\n",
              "\n",
              "    outputElement.appendChild(li);\n",
              "\n",
              "    const fileDataPromise = new Promise((resolve) => {\n",
              "      const reader = new FileReader();\n",
              "      reader.onload = (e) => {\n",
              "        resolve(e.target.result);\n",
              "      };\n",
              "      reader.readAsArrayBuffer(file);\n",
              "    });\n",
              "    // Wait for the data to be ready.\n",
              "    let fileData = yield {\n",
              "      promise: fileDataPromise,\n",
              "      response: {\n",
              "        action: 'continue',\n",
              "      }\n",
              "    };\n",
              "\n",
              "    // Use a chunked sending to avoid message size limits. See b/62115660.\n",
              "    let position = 0;\n",
              "    do {\n",
              "      const length = Math.min(fileData.byteLength - position, MAX_PAYLOAD_SIZE);\n",
              "      const chunk = new Uint8Array(fileData, position, length);\n",
              "      position += length;\n",
              "\n",
              "      const base64 = btoa(String.fromCharCode.apply(null, chunk));\n",
              "      yield {\n",
              "        response: {\n",
              "          action: 'append',\n",
              "          file: file.name,\n",
              "          data: base64,\n",
              "        },\n",
              "      };\n",
              "\n",
              "      let percentDone = fileData.byteLength === 0 ?\n",
              "          100 :\n",
              "          Math.round((position / fileData.byteLength) * 100);\n",
              "      percent.textContent = `${percentDone}% done`;\n",
              "\n",
              "    } while (position < fileData.byteLength);\n",
              "  }\n",
              "\n",
              "  // All done.\n",
              "  yield {\n",
              "    response: {\n",
              "      action: 'complete',\n",
              "    }\n",
              "  };\n",
              "}\n",
              "\n",
              "scope.google = scope.google || {};\n",
              "scope.google.colab = scope.google.colab || {};\n",
              "scope.google.colab._files = {\n",
              "  _uploadFiles,\n",
              "  _uploadFilesContinue,\n",
              "};\n",
              "})(self);\n",
              "</script> "
            ]
          },
          "metadata": {}
        },
        {
          "output_type": "stream",
          "name": "stderr",
          "text": [
            "Truncation was not explicitly activated but `max_length` is provided a specific value, please use `truncation=True` to explicitly truncate examples to max length. Defaulting to 'longest_first' truncation strategy. If you encode pairs of sequences (GLUE-style) with the tokenizer you can select this strategy more precisely by providing a specific strategy to `truncation`.\n"
          ]
        },
        {
          "output_type": "stream",
          "name": "stdout",
          "text": [
            "Saving Bangla.xlsx to Bangla (1).xlsx\n"
          ]
        },
        {
          "output_type": "stream",
          "name": "stderr",
          "text": [
            "/usr/local/lib/python3.10/dist-packages/transformers/tokenization_utils_base.py:2760: FutureWarning: The `pad_to_max_length` argument is deprecated and will be removed in a future version, use `padding=True` or `padding='longest'` to pad to the longest sequence in the batch, or use `padding='max_length'` to pad to a max length. In this case, you can give a specific length with `max_length` (e.g. `max_length=45`) or leave max_length to None to pad to the maximal input size of the model (e.g. 512 for Bert).\n",
            "  warnings.warn(\n"
          ]
        },
        {
          "output_type": "display_data",
          "data": {
            "text/plain": [
              "model.safetensors:   0%|          | 0.00/1.12G [00:00<?, ?B/s]"
            ],
            "application/vnd.jupyter.widget-view+json": {
              "version_major": 2,
              "version_minor": 0,
              "model_id": "e65a871b9f1640608a25d1473fd92136"
            }
          },
          "metadata": {}
        },
        {
          "output_type": "stream",
          "name": "stderr",
          "text": [
            "Some weights of XLMRobertaForSequenceClassification were not initialized from the model checkpoint at xlm-roberta-base and are newly initialized: ['classifier.dense.bias', 'classifier.dense.weight', 'classifier.out_proj.bias', 'classifier.out_proj.weight']\n",
            "You should probably TRAIN this model on a down-stream task to be able to use it for predictions and inference.\n",
            "Some weights of XLMRobertaForSequenceClassification were not initialized from the model checkpoint at xlm-roberta-base and are newly initialized: ['classifier.dense.bias', 'classifier.dense.weight', 'classifier.out_proj.bias', 'classifier.out_proj.weight']\n",
            "You should probably TRAIN this model on a down-stream task to be able to use it for predictions and inference.\n",
            "/usr/local/lib/python3.10/dist-packages/transformers/optimization.py:591: FutureWarning: This implementation of AdamW is deprecated and will be removed in a future version. Use the PyTorch implementation torch.optim.AdamW instead, or set `no_deprecation_warning=True` to disable this warning\n",
            "  warnings.warn(\n"
          ]
        },
        {
          "output_type": "stream",
          "name": "stdout",
          "text": [
            "\n",
            "Epoch {epoch}\n",
            "Training loss: 0.17397943158010365\n"
          ]
        },
        {
          "output_type": "stream",
          "name": "stderr",
          "text": []
        },
        {
          "output_type": "stream",
          "name": "stdout",
          "text": [
            "\n",
            "Epoch {epoch}\n",
            "Training loss: 0.16057043974175386\n"
          ]
        },
        {
          "output_type": "stream",
          "name": "stderr",
          "text": []
        },
        {
          "output_type": "stream",
          "name": "stdout",
          "text": [
            "\n",
            "Epoch {epoch}\n",
            "Training loss: 0.15433111665663907\n"
          ]
        },
        {
          "output_type": "stream",
          "name": "stderr",
          "text": []
        },
        {
          "output_type": "stream",
          "name": "stdout",
          "text": [
            "\n",
            "Epoch {epoch}\n",
            "Training loss: 0.1574710117797385\n"
          ]
        },
        {
          "output_type": "stream",
          "name": "stderr",
          "text": []
        },
        {
          "output_type": "stream",
          "name": "stdout",
          "text": [
            "\n",
            "Epoch {epoch}\n",
            "Training loss: 0.15011202290256564\n"
          ]
        },
        {
          "output_type": "stream",
          "name": "stderr",
          "text": []
        },
        {
          "output_type": "stream",
          "name": "stdout",
          "text": [
            "\n",
            "Epoch {epoch}\n",
            "Training loss: 0.17470145661009917\n"
          ]
        },
        {
          "output_type": "stream",
          "name": "stderr",
          "text": []
        },
        {
          "output_type": "stream",
          "name": "stdout",
          "text": [
            "\n",
            "Epoch {epoch}\n",
            "Training loss: 0.16062375134403853\n"
          ]
        },
        {
          "output_type": "stream",
          "name": "stderr",
          "text": []
        },
        {
          "output_type": "stream",
          "name": "stdout",
          "text": [
            "\n",
            "Epoch {epoch}\n",
            "Training loss: 0.15930448542556133\n"
          ]
        },
        {
          "output_type": "stream",
          "name": "stderr",
          "text": []
        },
        {
          "output_type": "stream",
          "name": "stdout",
          "text": [
            "\n",
            "Epoch {epoch}\n",
            "Training loss: 0.1294584636691262\n"
          ]
        },
        {
          "output_type": "stream",
          "name": "stderr",
          "text": []
        },
        {
          "output_type": "stream",
          "name": "stdout",
          "text": [
            "\n",
            "Epoch {epoch}\n",
            "Training loss: 0.12790745736976666\n"
          ]
        },
        {
          "output_type": "stream",
          "name": "stderr",
          "text": []
        },
        {
          "output_type": "stream",
          "name": "stdout",
          "text": [
            "\n",
            "Epoch {epoch}\n",
            "Training loss: 0.12180481197779605\n"
          ]
        },
        {
          "output_type": "stream",
          "name": "stderr",
          "text": []
        },
        {
          "output_type": "stream",
          "name": "stdout",
          "text": [
            "\n",
            "Epoch {epoch}\n",
            "Training loss: 0.11179176526719246\n"
          ]
        },
        {
          "output_type": "stream",
          "name": "stderr",
          "text": []
        },
        {
          "output_type": "stream",
          "name": "stdout",
          "text": [
            "\n",
            "Epoch {epoch}\n",
            "Training loss: 0.10319783735228188\n"
          ]
        },
        {
          "output_type": "stream",
          "name": "stderr",
          "text": []
        },
        {
          "output_type": "stream",
          "name": "stdout",
          "text": [
            "\n",
            "Epoch {epoch}\n",
            "Training loss: 0.10361091929059314\n"
          ]
        },
        {
          "output_type": "stream",
          "name": "stderr",
          "text": []
        },
        {
          "output_type": "stream",
          "name": "stdout",
          "text": [
            "\n",
            "Epoch {epoch}\n",
            "Training loss: 0.08452312224518878\n"
          ]
        },
        {
          "output_type": "stream",
          "name": "stderr",
          "text": []
        },
        {
          "output_type": "stream",
          "name": "stdout",
          "text": [
            "\n",
            "Epoch {epoch}\n",
            "Training loss: 0.11393253872432675\n"
          ]
        },
        {
          "output_type": "stream",
          "name": "stderr",
          "text": []
        },
        {
          "output_type": "stream",
          "name": "stdout",
          "text": [
            "\n",
            "Epoch {epoch}\n",
            "Training loss: 0.1089677065125099\n"
          ]
        },
        {
          "output_type": "stream",
          "name": "stderr",
          "text": []
        },
        {
          "output_type": "stream",
          "name": "stdout",
          "text": [
            "\n",
            "Epoch {epoch}\n",
            "Training loss: 0.09231917556838845\n"
          ]
        },
        {
          "output_type": "stream",
          "name": "stderr",
          "text": []
        },
        {
          "output_type": "stream",
          "name": "stdout",
          "text": [
            "\n",
            "Epoch {epoch}\n",
            "Training loss: 0.09348069843407596\n"
          ]
        },
        {
          "output_type": "stream",
          "name": "stderr",
          "text": []
        },
        {
          "output_type": "stream",
          "name": "stdout",
          "text": [
            "\n",
            "Epoch {epoch}\n",
            "Training loss: 0.0933826210366072\n"
          ]
        },
        {
          "output_type": "stream",
          "name": "stderr",
          "text": [
            "                                                           "
          ]
        },
        {
          "output_type": "stream",
          "name": "stdout",
          "text": [
            "Testing Accuracy: 0.7233502538071066\n",
            "Testing F1 Score: 0.7231344486348837\n",
            "Testing Precision: 0.7240488006617039\n",
            "Testing Recall: 0.7233502538071066\n"
          ]
        },
        {
          "output_type": "stream",
          "name": "stderr",
          "text": [
            "\r"
          ]
        }
      ],
      "source": [
        "import torch\n",
        "import pandas as pd\n",
        "from sklearn.model_selection import train_test_split\n",
        "from transformers import AutoTokenizer, AutoModelForSequenceClassification, AdamW, get_linear_schedule_with_warmup\n",
        "from torch.utils.data import TensorDataset, DataLoader, RandomSampler, SequentialSampler\n",
        "import numpy as np\n",
        "from sklearn.metrics import f1_score, accuracy_score, precision_score, recall_score\n",
        "from tqdm import tqdm\n",
        "from google.colab import files\n",
        "\n",
        "# Load the XLM-RoBERTa tokenizer\n",
        "tokenizer = AutoTokenizer.from_pretrained(\"xlm-roberta-base\")\n",
        "\n",
        "# Assuming you're using Google Colab and uploaded a file\n",
        "uploaded = files.upload()\n",
        "\n",
        "# Read the Excel file\n",
        "df = pd.read_excel(pd.ExcelFile(list(uploaded.keys())[0]), header=0)\n",
        "# Define the columns for features (tweets) and labels\n",
        "tweets_column = 'tweets'\n",
        "labels_column = 'labels'\n",
        "\n",
        "# Convert the labels to numerical values\n",
        "NUM_LABELS = len(df[labels_column].unique())\n",
        "possible_labels = df[labels_column].unique()\n",
        "label_dict = {possible_label: index for index, possible_label in enumerate(possible_labels)}\n",
        "df[labels_column] = df[labels_column].map(label_dict)\n",
        "\n",
        "# Split the dataset into labeled, unlabeled, and test sets\n",
        "labeled_data, temp_data = train_test_split(df, test_size=0.6, stratify=df[labels_column])\n",
        "unlabeled_data, test_data = train_test_split(temp_data, test_size=1/3, stratify=temp_data[labels_column])\n",
        "\n",
        "# Tokenize the dataset\n",
        "def tokenize_data(data):\n",
        "    return tokenizer.batch_encode_plus(\n",
        "        data[tweets_column].tolist(),\n",
        "        add_special_tokens=True,\n",
        "        return_attention_mask=True,\n",
        "        pad_to_max_length=True,\n",
        "        max_length=256,\n",
        "        return_tensors='pt'\n",
        "    )\n",
        "\n",
        "# Tokenize labeled, unlabeled, and test data\n",
        "encoded_labeled = tokenize_data(labeled_data)\n",
        "encoded_unlabeled = tokenize_data(unlabeled_data)\n",
        "encoded_test = tokenize_data(test_data)\n",
        "\n",
        "# Convert labels to tensors\n",
        "labels_labeled = torch.tensor(labeled_data[labels_column].values)\n",
        "labels_unlabeled = torch.tensor(unlabeled_data[labels_column].values)\n",
        "labels_test = torch.tensor(test_data[labels_column].values)\n",
        "\n",
        "# Create TensorDatasets\n",
        "dataset_labeled = TensorDataset(encoded_labeled['input_ids'], encoded_labeled['attention_mask'], labels_labeled)\n",
        "dataset_unlabeled = TensorDataset(encoded_unlabeled['input_ids'], encoded_unlabeled['attention_mask'], labels_unlabeled)\n",
        "dataset_test = TensorDataset(encoded_test['input_ids'], encoded_test['attention_mask'], labels_test)\n",
        "\n",
        "# Initialize teacher and student models\n",
        "teacher_model = AutoModelForSequenceClassification.from_pretrained('xlm-roberta-base', num_labels=NUM_LABELS)\n",
        "student_model = AutoModelForSequenceClassification.from_pretrained('xlm-roberta-base', num_labels=NUM_LABELS)\n",
        "\n",
        "# Set up the device for training\n",
        "device = torch.device('cuda' if torch.cuda.is_available() else 'cpu')\n",
        "teacher_model.to(device)\n",
        "student_model.to(device)\n",
        "\n",
        "# Optimizers and schedulers for both models\n",
        "teacher_optimizer = AdamW(teacher_model.parameters(), lr=1e-5, eps=1e-8)\n",
        "student_optimizer = AdamW(student_model.parameters(), lr=1e-5, eps=1e-8)\n",
        "\n",
        "epochs = 5\n",
        "batch_size = 4\n",
        "\n",
        "teacher_scheduler = get_linear_schedule_with_warmup(teacher_optimizer, num_warmup_steps=0, num_training_steps=len(dataset_labeled)*epochs)\n",
        "student_scheduler = get_linear_schedule_with_warmup(student_optimizer, num_warmup_steps=0, num_training_steps=len(dataset_labeled)*epochs)\n",
        "\n",
        "# Training loop\n",
        "def train_model(dataset, model, optimizer, scheduler, epochs=5):\n",
        "    for epoch in range(1, epochs + 1):\n",
        "        model.train()\n",
        "        loss_train_total = 0\n",
        "        progress_bar = tqdm(DataLoader(dataset, sampler=RandomSampler(dataset), batch_size=batch_size), desc='Epoch {:1d}'.format(epoch), leave=False, disable=False)\n",
        "        for batch in progress_bar:\n",
        "            model.zero_grad()\n",
        "            batch = tuple(b.to(device) for b in batch)\n",
        "            inputs = {'input_ids': batch[0], 'attention_mask': batch[1], 'labels': batch[2]}\n",
        "            outputs = model(**inputs)\n",
        "            loss = outputs[0]\n",
        "            loss_train_total += loss.item()\n",
        "            loss.backward()\n",
        "            torch.nn.utils.clip_grad_norm_(model.parameters(), 1.0)\n",
        "            optimizer.step()\n",
        "            scheduler.step()\n",
        "            progress_bar.set_postfix({'training_loss': '{:.3f}'.format(loss.item() / len(batch))})\n",
        "        loss_train_avg = loss_train_total / len(dataset)\n",
        "        tqdm.write('\\nEpoch {epoch}')\n",
        "        tqdm.write(f'Training loss: {loss_train_avg}')\n",
        "\n",
        "# Function to evaluate the model\n",
        "def evaluate_model(model, dataloader):\n",
        "    model.eval()\n",
        "    loss_val_total = 0\n",
        "    predictions, true_vals = [], []\n",
        "    for batch in tqdm(dataloader, desc='Evaluating', leave=False, disable=False):\n",
        "        batch = tuple(b.to(device) for b in batch)\n",
        "        inputs = {'input_ids': batch[0], 'attention_mask': batch[1], 'labels': batch[2]}\n",
        "        with torch.no_grad():\n",
        "            outputs = model(**inputs)\n",
        "        loss = outputs[0]\n",
        "        logits = outputs[1]\n",
        "        loss_val_total += loss.item()\n",
        "        logits = logits.detach().cpu().numpy()\n",
        "        label_ids = inputs['labels'].cpu().numpy()\n",
        "        predictions.append(logits)\n",
        "        true_vals.append(label_ids)\n",
        "    loss_val_avg = loss_val_total / len(dataloader)\n",
        "    predictions = np.concatenate(predictions, axis=0)\n",
        "    true_vals = np.concatenate(true_vals, axis=0)\n",
        "    return loss_val_avg, predictions, true_vals\n",
        "\n",
        "# Metrics functions\n",
        "def binary_accuracy(preds, labels):\n",
        "    preds_flat = np.argmax(preds, axis=1).flatten()\n",
        "    labels_flat = labels.flatten()\n",
        "    return accuracy_score(labels_flat, preds_flat)\n",
        "\n",
        "def binary_f1_score(preds, labels):\n",
        "    preds_flat = np.argmax(preds, axis=1).flatten()\n",
        "    labels_flat = labels.flatten()\n",
        "    return f1_score(labels_flat, preds_flat, average='weighted')\n",
        "\n",
        "def binary_precision(preds, labels):\n",
        "    preds_flat = np.argmax(preds, axis=1).flatten()\n",
        "    labels_flat = labels.flatten()\n",
        "    return precision_score(labels_flat, preds_flat, average='weighted')\n",
        "\n",
        "def binary_recall(preds, labels):\n",
        "    preds_flat = np.argmax(preds, axis=1).flatten()\n",
        "    labels_flat = labels.flatten()\n",
        "    return recall_score(labels_flat, preds_flat, average='weighted')\n",
        "\n",
        "# Train teacher and student on labeled data\n",
        "train_model(dataset_labeled, teacher_model, teacher_optimizer, teacher_scheduler, epochs=epochs)\n",
        "train_model(dataset_labeled, student_model, student_optimizer, student_scheduler, epochs=epochs)\n",
        "\n",
        "# Generate pseudo-labels with the teacher model\n",
        "teacher_model.eval()\n",
        "unlabeled_dataloader = DataLoader(dataset_unlabeled, sampler=SequentialSampler(dataset_unlabeled), batch_size=batch_size)\n",
        "teacher_predictions = []\n",
        "teacher_confidences = []\n",
        "\n",
        "for batch in tqdm(unlabeled_dataloader, desc='Teacher Predicting', leave=False, disable=False):\n",
        "    batch = tuple(b.to(device) for b in batch)\n",
        "    inputs = {'input_ids': batch[0], 'attention_mask': batch[1]}\n",
        "    with torch.no_grad():\n",
        "        outputs = teacher_model(**inputs)\n",
        "    logits = outputs[0]\n",
        "    probs = torch.softmax(logits, dim=1)\n",
        "    confidence, preds = torch.max(probs, dim=1)\n",
        "    teacher_predictions.extend(preds.cpu().numpy())\n",
        "    teacher_confidences.extend(confidence.cpu().numpy())\n",
        "\n",
        "# Generate pseudo-labels with the student model\n",
        "student_model.eval()\n",
        "student_predictions = []\n",
        "student_confidences = []\n",
        "\n",
        "for batch in tqdm(unlabeled_dataloader, desc='Student Predicting', leave=False, disable=False):\n",
        "    batch = tuple(b.to(device) for b in batch)\n",
        "    inputs = {'input_ids': batch[0], 'attention_mask': batch[1]}\n",
        "    with torch.no_grad():\n",
        "        outputs = student_model(**inputs)\n",
        "    logits = outputs[0]\n",
        "    probs = torch.softmax(logits, dim=1)\n",
        "    confidence, preds = torch.max(probs, dim=1)\n",
        "    student_predictions.extend(preds.cpu().numpy())\n",
        "    student_confidences.extend(confidence.cpu().numpy())\n",
        "\n",
        "# Convert predictions and confidences to tensors\n",
        "teacher_predictions = torch.tensor(teacher_predictions)\n",
        "teacher_confidences = torch.tensor(teacher_confidences)\n",
        "\n",
        "student_predictions = torch.tensor(student_predictions)\n",
        "student_confidences = torch.tensor(student_confidences)\n",
        "\n",
        "# Select samples with high confidence from teacher and student predictions\n",
        "teacher_high_confidence_idx = torch.where(teacher_confidences > 0.9)[0]\n",
        "student_high_confidence_idx = torch.where(student_confidences > 0.9)[0]\n",
        "\n",
        "# Swap high-confidence pseudo-labels between teacher and student\n",
        "teacher_pseudo_labels = student_predictions[student_high_confidence_idx]\n",
        "student_pseudo_labels = teacher_predictions[teacher_high_confidence_idx]\n",
        "\n",
        "teacher_dataset_pseudo = TensorDataset(\n",
        "    encoded_unlabeled['input_ids'][student_high_confidence_idx],\n",
        "    encoded_unlabeled['attention_mask'][student_high_confidence_idx],\n",
        "    teacher_pseudo_labels\n",
        ")\n",
        "\n",
        "student_dataset_pseudo = TensorDataset(\n",
        "    encoded_unlabeled['input_ids'][teacher_high_confidence_idx],\n",
        "    encoded_unlabeled['attention_mask'][teacher_high_confidence_idx],\n",
        "    student_pseudo_labels\n",
        ")\n",
        "\n",
        "# Combine labeled data and pseudo-labeled data\n",
        "combined_teacher_dataset = TensorDataset(\n",
        "    torch.cat((encoded_labeled['input_ids'], encoded_unlabeled['input_ids'][student_high_confidence_idx]), dim=0),\n",
        "    torch.cat((encoded_labeled['attention_mask'], encoded_unlabeled['attention_mask'][student_high_confidence_idx]), dim=0),\n",
        "    torch.cat((labels_labeled, teacher_pseudo_labels), dim=0)\n",
        ")\n",
        "\n",
        "combined_student_dataset = TensorDataset(\n",
        "    torch.cat((encoded_labeled['input_ids'], encoded_unlabeled['input_ids'][teacher_high_confidence_idx]), dim=0),\n",
        "    torch.cat((encoded_labeled['attention_mask'], encoded_unlabeled['attention_mask'][teacher_high_confidence_idx]), dim=0),\n",
        "    torch.cat((labels_labeled, student_pseudo_labels), dim=0)\n",
        ")\n",
        "\n",
        "# Train teacher and student on combined datasets\n",
        "train_model(combined_teacher_dataset, teacher_model, teacher_optimizer, teacher_scheduler, epochs=epochs)\n",
        "train_model(combined_student_dataset, student_model, student_optimizer, student_scheduler, epochs=epochs)\n",
        "\n",
        "# Evaluate both models on the test set\n",
        "test_dataloader = DataLoader(dataset_test, sampler=SequentialSampler(dataset_test), batch_size=batch_size)\n",
        "teacher_test_loss, teacher_test_predictions, test_true_vals = evaluate_model(teacher_model, test_dataloader)\n",
        "student_test_loss, student_test_predictions, test_true_vals = evaluate_model(student_model, test_dataloader)\n",
        "\n",
        "# Combine predictions from both models on the test set\n",
        "final_predictions = (teacher_test_predictions + student_test_predictions) / 2\n",
        "\n",
        "# Calculate evaluation metrics on test data\n",
        "test_accuracy = binary_accuracy(final_predictions, test_true_vals)\n",
        "test_f1 = binary_f1_score(final_predictions, test_true_vals)\n",
        "test_precision = binary_precision(final_predictions, test_true_vals)\n",
        "test_recall = binary_recall(final_predictions, test_true_vals)\n",
        "\n",
        "# Print out the evaluation metrics on test data\n",
        "print(f'Testing Accuracy: {test_accuracy}')\n",
        "print(f'Testing F1 Score: {test_f1}')\n",
        "print(f'Testing Precision: {test_precision}')\n",
        "print(f'Testing Recall: {test_recall}')\n"
      ]
    }
  ]
}