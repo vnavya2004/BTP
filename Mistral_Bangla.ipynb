{
  "nbformat": 4,
  "nbformat_minor": 0,
  "metadata": {
    "colab": {
      "provenance": [],
      "gpuType": "T4",
      "authorship_tag": "ABX9TyMDp/LifbuByRqAK5UteM/X",
      "include_colab_link": true
    },
    "kernelspec": {
      "name": "python3",
      "display_name": "Python 3"
    },
    "language_info": {
      "name": "python"
    },
    "accelerator": "GPU"
  },
  "cells": [
    {
      "cell_type": "markdown",
      "metadata": {
        "id": "view-in-github",
        "colab_type": "text"
      },
      "source": [
        "<a href=\"https://colab.research.google.com/github/vnavya2004/BTP/blob/main/Mistral_Bangla.ipynb\" target=\"_parent\"><img src=\"https://colab.research.google.com/assets/colab-badge.svg\" alt=\"Open In Colab\"/></a>"
      ]
    },
    {
      "cell_type": "code",
      "source": [
        "!pip install mistralai"
      ],
      "metadata": {
        "colab": {
          "base_uri": "https://localhost:8080/"
        },
        "id": "_CZG-3JZTA5N",
        "outputId": "ed96fc2e-3c46-457f-e533-99ff8f25477d"
      },
      "execution_count": 15,
      "outputs": [
        {
          "output_type": "stream",
          "name": "stdout",
          "text": [
            "Requirement already satisfied: mistralai in /usr/local/lib/python3.10/dist-packages (1.2.2)\n",
            "Requirement already satisfied: eval-type-backport<0.3.0,>=0.2.0 in /usr/local/lib/python3.10/dist-packages (from mistralai) (0.2.0)\n",
            "Requirement already satisfied: httpx<0.28.0,>=0.27.0 in /usr/local/lib/python3.10/dist-packages (from mistralai) (0.27.2)\n",
            "Requirement already satisfied: jsonpath-python<2.0.0,>=1.0.6 in /usr/local/lib/python3.10/dist-packages (from mistralai) (1.0.6)\n",
            "Requirement already satisfied: pydantic<3.0.0,>=2.9.0 in /usr/local/lib/python3.10/dist-packages (from mistralai) (2.9.2)\n",
            "Requirement already satisfied: python-dateutil==2.8.2 in /usr/local/lib/python3.10/dist-packages (from mistralai) (2.8.2)\n",
            "Requirement already satisfied: typing-inspect<0.10.0,>=0.9.0 in /usr/local/lib/python3.10/dist-packages (from mistralai) (0.9.0)\n",
            "Requirement already satisfied: six>=1.5 in /usr/local/lib/python3.10/dist-packages (from python-dateutil==2.8.2->mistralai) (1.16.0)\n",
            "Requirement already satisfied: anyio in /usr/local/lib/python3.10/dist-packages (from httpx<0.28.0,>=0.27.0->mistralai) (3.7.1)\n",
            "Requirement already satisfied: certifi in /usr/local/lib/python3.10/dist-packages (from httpx<0.28.0,>=0.27.0->mistralai) (2024.8.30)\n",
            "Requirement already satisfied: httpcore==1.* in /usr/local/lib/python3.10/dist-packages (from httpx<0.28.0,>=0.27.0->mistralai) (1.0.6)\n",
            "Requirement already satisfied: idna in /usr/local/lib/python3.10/dist-packages (from httpx<0.28.0,>=0.27.0->mistralai) (3.10)\n",
            "Requirement already satisfied: sniffio in /usr/local/lib/python3.10/dist-packages (from httpx<0.28.0,>=0.27.0->mistralai) (1.3.1)\n",
            "Requirement already satisfied: h11<0.15,>=0.13 in /usr/local/lib/python3.10/dist-packages (from httpcore==1.*->httpx<0.28.0,>=0.27.0->mistralai) (0.14.0)\n",
            "Requirement already satisfied: annotated-types>=0.6.0 in /usr/local/lib/python3.10/dist-packages (from pydantic<3.0.0,>=2.9.0->mistralai) (0.7.0)\n",
            "Requirement already satisfied: pydantic-core==2.23.4 in /usr/local/lib/python3.10/dist-packages (from pydantic<3.0.0,>=2.9.0->mistralai) (2.23.4)\n",
            "Requirement already satisfied: typing-extensions>=4.6.1 in /usr/local/lib/python3.10/dist-packages (from pydantic<3.0.0,>=2.9.0->mistralai) (4.12.2)\n",
            "Requirement already satisfied: mypy-extensions>=0.3.0 in /usr/local/lib/python3.10/dist-packages (from typing-inspect<0.10.0,>=0.9.0->mistralai) (1.0.0)\n",
            "Requirement already satisfied: exceptiongroup in /usr/local/lib/python3.10/dist-packages (from anyio->httpx<0.28.0,>=0.27.0->mistralai) (1.2.2)\n"
          ]
        }
      ]
    },
    {
      "cell_type": "code",
      "source": [
        "import time\n",
        "import pandas as pd\n",
        "from sklearn.model_selection import train_test_split\n",
        "from sklearn.metrics import accuracy_score, precision_score, recall_score, f1_score\n",
        "from mistralai import Mistral\n",
        "\n",
        "# Initialize Mistral API client\n",
        "api_key = \"yGnufRVsYoibAfyXEopns68J4TacNiEH\"  # Replace with your actual API key\n",
        "model = \"mistral-large-latest\"\n",
        "client = Mistral(api_key=api_key)"
      ],
      "metadata": {
        "id": "IKsOUyw0S2ri"
      },
      "execution_count": 16,
      "outputs": []
    },
    {
      "cell_type": "code",
      "source": [
        "\n",
        "\n",
        "# Define function to get Mistral AI's output for depression detection\n",
        "def get_chat_completion(prompt):\n",
        "    response = client.chat.complete(\n",
        "        model=model,\n",
        "        messages=[\n",
        "            {\"role\": \"system\", \"content\": \"Classify the following Bangla text as 'depressed' or 'not depressed'.Give no explanation. Respond with only 'depressed' or 'not depressed'.\"},\n",
        "            {\"role\": \"user\", \"content\": prompt},\n",
        "        ],\n",
        "        temperature=0,\n",
        "    )\n",
        "    return response.choices[0].message.content.strip()\n",
        "\n",
        "# Load dataset"
      ],
      "metadata": {
        "id": "2c0E-ziVS8tV"
      },
      "execution_count": 17,
      "outputs": []
    },
    {
      "cell_type": "code",
      "source": [
        "import pandas as pd\n",
        "from sklearn.model_selection import train_test_split\n",
        "\n",
        "# Load and shuffle dataset\n",
        "data = pd.read_excel(\"Bangla2.xlsx\")  # Path to your dataset file\n",
        "data = data.sample(frac=1, random_state=42).reset_index(drop=True)\n",
        "\n",
        "# Separate data by labels\n",
        "depressed = data[data[\"labels\"] == 1]\n",
        "not_depressed = data[data[\"labels\"] == 0]\n",
        "\n",
        "# Balance the classes by taking an equal number of samples\n",
        "min_samples = min(len(depressed), len(not_depressed))\n",
        "depressed_sample = depressed.sample(min_samples, random_state=42)\n",
        "not_depressed_sample = not_depressed.sample(min_samples, random_state=42)\n",
        "\n",
        "# Combine the balanced samples\n",
        "balanced_data = pd.concat([depressed_sample, not_depressed_sample]).sample(frac=1, random_state=42).reset_index(drop=True)\n",
        "\n",
        "# Extract sentences and labels\n",
        "sentences = balanced_data[\"tweets\"]  # Text column\n",
        "labels = balanced_data[\"labels\"]  # Label column\n",
        "\n",
        "# Split data: 20% for testing\n",
        "train_sentences, test_sentences, train_labels, test_labels = train_test_split(\n",
        "    sentences, labels, test_size=0.2\n",
        ")\n"
      ],
      "metadata": {
        "id": "Zd6-YBfGTjY1"
      },
      "execution_count": 19,
      "outputs": []
    },
    {
      "cell_type": "code",
      "source": [
        "\n",
        "from sklearn.metrics import accuracy_score, precision_score, recall_score, f1_score\n",
        "import time\n",
        "\n",
        "# Generate predictions with progress bar\n",
        "predictions = []\n",
        "for sentence in test_sentences:\n",
        "    prediction = get_chat_completion(sentence)\n",
        "    # Convert \"depressed\"/\"not depressed\" response to binary labels (1 and 0)\n",
        "    predictions.append(1 if prediction == \"depressed\" else 0)\n",
        "    time.sleep(5)  # Wait for 5 seconds between API requests to respect rate limits\n",
        "\n",
        "# Calculate metrics\n",
        "accuracy = accuracy_score(test_labels, predictions)\n",
        "precision = precision_score(test_labels, predictions)\n",
        "recall = recall_score(test_labels, predictions)\n",
        "f1 = f1_score(test_labels, predictions)\n",
        "\n",
        "# Output results with 4 decimal places\n",
        "print(f\"Accuracy: {accuracy:.4f}\")\n",
        "print(f\"Precision: {precision:.4f}\")\n",
        "print(f\"Recall: {recall:.4f}\")\n",
        "print(f\"F1 Score: {f1:.4f}\")\n"
      ],
      "metadata": {
        "id": "aKCTcMGlaxGz",
        "colab": {
          "base_uri": "https://localhost:8080/"
        },
        "outputId": "de09170e-7581-4071-d986-36c64d97d44f"
      },
      "execution_count": 21,
      "outputs": [
        {
          "output_type": "stream",
          "name": "stdout",
          "text": [
            "Accuracy: 0.6701\n",
            "Precision: 0.7240\n",
            "Recall: 0.6435\n",
            "F1 Score: 0.6814\n"
          ]
        }
      ]
    },
    {
      "cell_type": "code",
      "source": [],
      "metadata": {
        "id": "-ZgvTLJFuwFK"
      },
      "execution_count": null,
      "outputs": []
    }
  ]
}