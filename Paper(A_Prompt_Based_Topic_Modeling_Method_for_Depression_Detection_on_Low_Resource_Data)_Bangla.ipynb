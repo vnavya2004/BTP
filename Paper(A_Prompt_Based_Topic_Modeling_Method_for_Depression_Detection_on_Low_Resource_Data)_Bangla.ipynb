{
  "nbformat": 4,
  "nbformat_minor": 0,
  "metadata": {
    "colab": {
      "provenance": [],
      "gpuType": "T4",
      "authorship_tag": "ABX9TyNHRi2xnH2jx/iuITvoaQfK",
      "include_colab_link": true
    },
    "kernelspec": {
      "name": "python3",
      "display_name": "Python 3"
    },
    "language_info": {
      "name": "python"
    },
    "accelerator": "GPU"
  },
  "cells": [
    {
      "cell_type": "markdown",
      "metadata": {
        "id": "view-in-github",
        "colab_type": "text"
      },
      "source": [
        "<a href=\"https://colab.research.google.com/github/vnavya2004/BTP/blob/main/Paper(A_Prompt_Based_Topic_Modeling_Method_for_Depression_Detection_on_Low_Resource_Data)_Bangla.ipynb\" target=\"_parent\"><img src=\"https://colab.research.google.com/assets/colab-badge.svg\" alt=\"Open In Colab\"/></a>"
      ]
    },
    {
      "cell_type": "code",
      "execution_count": null,
      "metadata": {
        "colab": {
          "base_uri": "https://localhost:8080/"
        },
        "id": "k7PkNH71VYAw",
        "outputId": "d7e324f0-c6e1-4b00-cdcf-bc3b816f42f8"
      },
      "outputs": [
        {
          "output_type": "stream",
          "name": "stdout",
          "text": [
            "Requirement already satisfied: transformers in /usr/local/lib/python3.10/dist-packages (4.44.2)\n",
            "Requirement already satisfied: openpyxl in /usr/local/lib/python3.10/dist-packages (3.1.5)\n",
            "Requirement already satisfied: filelock in /usr/local/lib/python3.10/dist-packages (from transformers) (3.16.1)\n",
            "Requirement already satisfied: huggingface-hub<1.0,>=0.23.2 in /usr/local/lib/python3.10/dist-packages (from transformers) (0.24.7)\n",
            "Requirement already satisfied: numpy>=1.17 in /usr/local/lib/python3.10/dist-packages (from transformers) (1.26.4)\n",
            "Requirement already satisfied: packaging>=20.0 in /usr/local/lib/python3.10/dist-packages (from transformers) (24.1)\n",
            "Requirement already satisfied: pyyaml>=5.1 in /usr/local/lib/python3.10/dist-packages (from transformers) (6.0.2)\n",
            "Requirement already satisfied: regex!=2019.12.17 in /usr/local/lib/python3.10/dist-packages (from transformers) (2024.9.11)\n",
            "Requirement already satisfied: requests in /usr/local/lib/python3.10/dist-packages (from transformers) (2.32.3)\n",
            "Requirement already satisfied: safetensors>=0.4.1 in /usr/local/lib/python3.10/dist-packages (from transformers) (0.4.5)\n",
            "Requirement already satisfied: tokenizers<0.20,>=0.19 in /usr/local/lib/python3.10/dist-packages (from transformers) (0.19.1)\n",
            "Requirement already satisfied: tqdm>=4.27 in /usr/local/lib/python3.10/dist-packages (from transformers) (4.66.6)\n",
            "Requirement already satisfied: et-xmlfile in /usr/local/lib/python3.10/dist-packages (from openpyxl) (2.0.0)\n",
            "Requirement already satisfied: fsspec>=2023.5.0 in /usr/local/lib/python3.10/dist-packages (from huggingface-hub<1.0,>=0.23.2->transformers) (2024.10.0)\n",
            "Requirement already satisfied: typing-extensions>=3.7.4.3 in /usr/local/lib/python3.10/dist-packages (from huggingface-hub<1.0,>=0.23.2->transformers) (4.12.2)\n",
            "Requirement already satisfied: charset-normalizer<4,>=2 in /usr/local/lib/python3.10/dist-packages (from requests->transformers) (3.4.0)\n",
            "Requirement already satisfied: idna<4,>=2.5 in /usr/local/lib/python3.10/dist-packages (from requests->transformers) (3.10)\n",
            "Requirement already satisfied: urllib3<3,>=1.21.1 in /usr/local/lib/python3.10/dist-packages (from requests->transformers) (2.2.3)\n",
            "Requirement already satisfied: certifi>=2017.4.17 in /usr/local/lib/python3.10/dist-packages (from requests->transformers) (2024.8.30)\n"
          ]
        },
        {
          "output_type": "stream",
          "name": "stderr",
          "text": [
            "/usr/local/lib/python3.10/dist-packages/transformers/tokenization_utils_base.py:1601: FutureWarning: `clean_up_tokenization_spaces` was not set. It will be set to `True` by default. This behavior will be depracted in transformers v4.45, and will be then set to `False` by default. For more details check this issue: https://github.com/huggingface/transformers/issues/31884\n",
            "  warnings.warn(\n",
            " 50%|████▉     | 1092/2186 [00:24<00:28, 38.20it/s]"
          ]
        }
      ],
      "source": [
        "# Install necessary libraries\n",
        "!pip install transformers openpyxl\n",
        "\n",
        "# Import libraries\n",
        "import pandas as pd\n",
        "import torch\n",
        "from transformers import BertTokenizer, BertForNextSentencePrediction\n",
        "from sklearn.model_selection import train_test_split\n",
        "import torch.nn as nn\n",
        "import torch.optim as optim\n",
        "from sklearn.metrics import accuracy_score, precision_score, recall_score, f1_score\n",
        "\n",
        "# Load the dataset\n",
        "df = pd.read_excel('spanish_translated.xlsx')  # Replace with your file path\n",
        "df = df[['Tweets_english', 'Labels']]  # Ensure columns 'text' and 'label' exist\n",
        "\n",
        "# Define device\n",
        "device = torch.device(\"cuda\" if torch.cuda.is_available() else \"cpu\")\n",
        "\n",
        "# Prompt-based emotion detection function\n",
        "def prompt_emotion(text, tokenizer, model, positive_prompt=\"I am feeling good.\", negative_prompt=\"I am feeling bad.\"):\n",
        "    inputs_pos = tokenizer(text, positive_prompt, return_tensors='pt', truncation=True).to(device)\n",
        "    inputs_neg = tokenizer(text, negative_prompt, return_tensors='pt', truncation=True).to(device)\n",
        "\n",
        "    # Predict scores for both positive and negative prompts\n",
        "    output_pos = model(**inputs_pos).logits\n",
        "    output_neg = model(**inputs_neg).logits\n",
        "\n",
        "    # Calculate probabilities\n",
        "    prob_pos = torch.softmax(output_pos, dim=1)[0][0].item()\n",
        "    prob_neg = torch.softmax(output_neg, dim=1)[0][0].item()\n",
        "\n",
        "    # Return emotion score (higher negative score indicates depression)\n",
        "    return prob_neg - prob_pos\n",
        "\n",
        "# Zero Training Data Setting - Test Multiple PLMs\n",
        "def test_plm_on_zero_shot(plm_name):\n",
        "    tokenizer = BertTokenizer.from_pretrained(plm_name)\n",
        "    model = BertForNextSentencePrediction.from_pretrained(plm_name).to(device)\n",
        "\n",
        "    # Calculate emotion scores for each entry in the dataset\n",
        "    from tqdm import tqdm\n",
        "    tqdm.pandas()  # Initialize tqdm for use with pandas\n",
        "\n",
        "# Now, apply the function with a progress bar\n",
        "    df[f'emotion_score_{plm_name}'] = df['Tweets_english'].progress_apply(lambda x: prompt_emotion(x, tokenizer, model))\n",
        "\n",
        "    df[f'prediction_{plm_name}'] = df[f'emotion_score_{plm_name}'].apply(lambda x: 1 if x > 0 else 0)\n",
        "\n",
        "    # Calculate metrics\n",
        "    y_true = df['Labels']\n",
        "    y_pred = df[f'prediction_{plm_name}']\n",
        "    accuracy = accuracy_score(y_true, y_pred)\n",
        "    precision = precision_score(y_true, y_pred)\n",
        "    recall = recall_score(y_true, y_pred)\n",
        "    f1 = f1_score(y_true, y_pred)\n",
        "\n",
        "    print(f\"PLM: {plm_name}\")\n",
        "    print(f\"Accuracy: {accuracy:.4f}\")\n",
        "    print(f\"Precision: {precision:.4f}\")\n",
        "    print(f\"Recall: {recall:.4f}\")\n",
        "    print(f\"F1-Score: {f1:.4f}\")\n",
        "    print(\"\")\n",
        "\n",
        "# List of PLMs to test in zero training data setting\n",
        "plm_names = [\n",
        "    \"bert-base-uncased\"\n",
        "]\n",
        "\n",
        "# Test each PLM on zero-shot setting\n",
        "for plm_name in plm_names:\n",
        "    test_plm_on_zero_shot(plm_name)\n"
      ]
    },
    {
      "cell_type": "code",
      "source": [
        "\n",
        "# Few-Shot Setting (Onefold Training) with Adaptive Fusion Model\n",
        "# Define Fusion Model for Few-Shot Adaptive Voting\n",
        "class FusionModel(nn.Module):\n",
        "    def __init__(self, input_dim):\n",
        "        super(FusionModel, self).__init__()\n",
        "        self.fc = nn.Linear(input_dim, 1)\n",
        "\n",
        "    def forward(self, x):\n",
        "        return torch.sigmoid(self.fc(x))\n",
        "\n",
        "# Use a specific PLM (e.g., bert-base-uncased) for few-shot setting\n",
        "plm_name = \"bert-base-uncased\"\n",
        "tokenizer = BertTokenizer.from_pretrained(plm_name)\n",
        "model = BertForNextSentencePrediction.from_pretrained(plm_name).to(device)\n",
        "\n",
        "# Calculate emotion scores using prompt-emotion method\n",
        "from tqdm import tqdm\n",
        "tqdm.pandas()  # Initialize tqdm for use with pandas\n",
        "\n",
        "# Now, apply the function with a progress bar\n",
        "df['emotion_score'] = df['tweets_english'].progress_apply(lambda x: prompt_emotion(x, tokenizer, model))\n",
        "\n",
        "# Convert emotion scores and labels to tensors\n",
        "X = torch.tensor(df['emotion_score'].values).float().view(-1, 1).to(device)\n",
        "y = torch.tensor(df['labels'].values).float().view(-1, 1).to(device)\n",
        "\n",
        "# Split into onefold train, validation, and test sets\n",
        "X_train, X_temp, y_train, y_temp = train_test_split(X, y, test_size=0.4, random_state=42)\n",
        "X_val, X_test, y_val, y_test = train_test_split(X_temp, y_temp, test_size=0.5, random_state=42)\n",
        "\n",
        "# Initialize and train FusionModel for adaptive voting\n",
        "fusion_model = FusionModel(1).to(device)\n",
        "criterion = nn.BCELoss()\n",
        "optimizer = optim.Adam(fusion_model.parameters(), lr=0.001)\n",
        "epochs = 10\n",
        "\n",
        "# Training loop for the fusion model\n",
        "for epoch in range(epochs):\n",
        "    fusion_model.train()\n",
        "    optimizer.zero_grad()\n",
        "    outputs = fusion_model(X_train)\n",
        "    loss = criterion(outputs, y_train)\n",
        "    loss.backward()\n",
        "    optimizer.step()\n",
        "    print(f\"Epoch [{epoch+1}/{epochs}], Loss: {loss.item():.4f}\")\n",
        "\n",
        "# Validation and Test Metrics\n",
        "fusion_model.eval()\n",
        "with torch.no_grad():\n",
        "    # Validate on validation set\n",
        "    val_outputs = fusion_model(X_val)\n",
        "    val_loss = criterion(val_outputs, y_val)\n",
        "    val_pred = (val_outputs >= 0.5).float()\n",
        "    val_accuracy = accuracy_score(y_val.cpu(), val_pred.cpu())\n",
        "    val_precision = precision_score(y_val.cpu(), val_pred.cpu())\n",
        "    val_recall = recall_score(y_val.cpu(), val_pred.cpu())\n",
        "    val_f1 = f1_score(y_val.cpu(), val_pred.cpu())\n",
        "\n",
        "    print(\"\\nValidation Results:\")\n",
        "    print(f\"Validation Loss: {val_loss.item():.4f}\")\n",
        "    print(f\"Accuracy: {val_accuracy:.4f}\")\n",
        "    print(f\"Precision: {val_precision:.4f}\")\n",
        "    print(f\"Recall: {val_recall:.4f}\")\n",
        "    print(f\"F1-Score: {val_f1:.4f}\")\n",
        "\n",
        "    # Test on test set\n",
        "    test_outputs = fusion_model(X_test)\n",
        "    test_pred = (test_outputs >= 0.5).float()\n",
        "    test_accuracy = accuracy_score(y_test.cpu(), test_pred.cpu())\n",
        "    test_precision = precision_score(y_test.cpu(), test_pred.cpu())\n",
        "    test_recall = recall_score(y_test.cpu(), test_pred.cpu())\n",
        "    test_f1 = f1_score(y_test.cpu(), test_pred.cpu())\n",
        "\n",
        "    print(\"\\nTest Results:\")\n",
        "    print(f\"Accuracy: {test_accuracy:.4f}\")\n",
        "    print(f\"Precision: {test_precision:.4f}\")\n",
        "    print(f\"Recall: {test_recall:.4f}\")\n",
        "    print(f\"F1-Score: {test_f1:.4f}\")\n"
      ],
      "metadata": {
        "colab": {
          "base_uri": "https://localhost:8080/"
        },
        "id": "NnfXTkFvWTKw",
        "outputId": "5f0ee00e-b27a-4af9-8ec3-3157428825f5"
      },
      "execution_count": 5,
      "outputs": [
        {
          "output_type": "stream",
          "name": "stderr",
          "text": [
            "/usr/local/lib/python3.10/dist-packages/transformers/tokenization_utils_base.py:1601: FutureWarning: `clean_up_tokenization_spaces` was not set. It will be set to `True` by default. This behavior will be depracted in transformers v4.45, and will be then set to `False` by default. For more details check this issue: https://github.com/huggingface/transformers/issues/31884\n",
            "  warnings.warn(\n"
          ]
        },
        {
          "output_type": "stream",
          "name": "stdout",
          "text": [
            "Epoch [1/10], Loss: 0.5717\n",
            "Epoch [2/10], Loss: 0.5716\n",
            "Epoch [3/10], Loss: 0.5715\n",
            "Epoch [4/10], Loss: 0.5715\n",
            "Epoch [5/10], Loss: 0.5714\n",
            "Epoch [6/10], Loss: 0.5713\n",
            "Epoch [7/10], Loss: 0.5713\n",
            "Epoch [8/10], Loss: 0.5712\n",
            "Epoch [9/10], Loss: 0.5711\n",
            "Epoch [10/10], Loss: 0.5711\n",
            "\n",
            "Validation Results:\n",
            "Validation Loss: 0.5319\n",
            "Accuracy: 0.7522\n",
            "Precision: 0.4000\n",
            "Recall: 0.2690\n",
            "F1-Score: 0.3217\n",
            "\n",
            "Test Results:\n",
            "Accuracy: 0.7407\n",
            "Precision: 0.4455\n",
            "Recall: 0.2565\n",
            "F1-Score: 0.3256\n"
          ]
        }
      ]
    },
    {
      "cell_type": "code",
      "source": [],
      "metadata": {
        "id": "6n6lFV3lXgJ5"
      },
      "execution_count": null,
      "outputs": []
    }
  ]
}