{
 "cells": [
  {
   "cell_type": "code",
   "execution_count": 1,
   "id": "409269de",
   "metadata": {},
   "outputs": [
    {
     "name": "stderr",
     "output_type": "stream",
     "text": [
      "/home/abcd/anaconda3/envs/abcd/lib/python3.8/site-packages/scipy/__init__.py:146: UserWarning: A NumPy version >=1.16.5 and <1.23.0 is required for this version of SciPy (detected version 1.23.1\n",
      "  warnings.warn(f\"A NumPy version >={np_minversion} and <{np_maxversion}\"\n",
      "2024-03-27 17:44:00.118263: I tensorflow/core/platform/cpu_feature_guard.cc:193] This TensorFlow binary is optimized with oneAPI Deep Neural Network Library (oneDNN) to use the following CPU instructions in performance-critical operations:  AVX2 AVX512F AVX512_VNNI FMA\n",
      "To enable them in other operations, rebuild TensorFlow with the appropriate compiler flags.\n",
      "2024-03-27 17:44:00.234027: I tensorflow/core/util/util.cc:169] oneDNN custom operations are on. You may see slightly different numerical results due to floating-point round-off errors from different computation orders. To turn them off, set the environment variable `TF_ENABLE_ONEDNN_OPTS=0`.\n",
      "2024-03-27 17:44:00.263167: E tensorflow/stream_executor/cuda/cuda_blas.cc:2981] Unable to register cuBLAS factory: Attempting to register factory for plugin cuBLAS when one has already been registered\n",
      "2024-03-27 17:44:00.747929: W tensorflow/stream_executor/platform/default/dso_loader.cc:64] Could not load dynamic library 'libnvinfer.so.7'; dlerror: libnvinfer.so.7: cannot open shared object file: No such file or directory; LD_LIBRARY_PATH: /usr/local/cuda-11.0/lib64/stubs:/usr/local/cuda-11.0/lib64:/usr/local/cuda-10.0/lib64/stubs:/usr/local/cuda-10.0/lib64:::\n",
      "2024-03-27 17:44:00.748022: W tensorflow/stream_executor/platform/default/dso_loader.cc:64] Could not load dynamic library 'libnvinfer_plugin.so.7'; dlerror: libnvinfer_plugin.so.7: cannot open shared object file: No such file or directory; LD_LIBRARY_PATH: /usr/local/cuda-11.0/lib64/stubs:/usr/local/cuda-11.0/lib64:/usr/local/cuda-10.0/lib64/stubs:/usr/local/cuda-10.0/lib64:::\n",
      "2024-03-27 17:44:00.748029: W tensorflow/compiler/tf2tensorrt/utils/py_utils.cc:38] TF-TRT Warning: Cannot dlopen some TensorRT libraries. If you would like to use Nvidia GPU with TensorRT, please make sure the missing libraries mentioned above are installed properly.\n",
      "2024-03-27 17:44:07.321631: I tensorflow/core/platform/cpu_feature_guard.cc:193] This TensorFlow binary is optimized with oneAPI Deep Neural Network Library (oneDNN) to use the following CPU instructions in performance-critical operations:  AVX2 AVX512F AVX512_VNNI FMA\n",
      "To enable them in other operations, rebuild TensorFlow with the appropriate compiler flags.\n",
      "2024-03-27 17:44:07.905607: I tensorflow/core/common_runtime/gpu/gpu_device.cc:1616] Created device /job:localhost/replica:0/task:0/device:GPU:0 with 13643 MB memory:  -> device: 0, name: Tesla T4, pci bus id: 0000:17:00.0, compute capability: 7.5\n"
     ]
    },
    {
     "name": "stdout",
     "output_type": "stream",
     "text": [
      "Epoch 1/10\n",
      "180/180 [==============================] - 5s 21ms/step - loss: 25.7778 - accuracy: 0.5705 - val_loss: 0.7087 - val_accuracy: 0.6062\n",
      "Epoch 2/10\n",
      "180/180 [==============================] - 3s 17ms/step - loss: 0.6835 - accuracy: 0.6259 - val_loss: 0.6760 - val_accuracy: 0.6062\n",
      "Epoch 3/10\n",
      "180/180 [==============================] - 3s 18ms/step - loss: 0.6688 - accuracy: 0.6266 - val_loss: 0.6718 - val_accuracy: 0.6062\n",
      "Epoch 4/10\n",
      "180/180 [==============================] - 3s 18ms/step - loss: 0.6640 - accuracy: 0.6262 - val_loss: 0.6705 - val_accuracy: 0.6062\n",
      "Epoch 5/10\n",
      "180/180 [==============================] - 3s 18ms/step - loss: 0.6620 - accuracy: 0.6262 - val_loss: 0.6704 - val_accuracy: 0.6062\n",
      "Epoch 6/10\n",
      "180/180 [==============================] - 3s 18ms/step - loss: 0.6614 - accuracy: 0.6264 - val_loss: 0.6707 - val_accuracy: 0.6062\n",
      "Epoch 7/10\n",
      "180/180 [==============================] - 3s 18ms/step - loss: 0.6624 - accuracy: 0.6264 - val_loss: 0.6712 - val_accuracy: 0.6062\n",
      "Epoch 8/10\n",
      "180/180 [==============================] - 3s 18ms/step - loss: 0.6619 - accuracy: 0.6262 - val_loss: 0.6710 - val_accuracy: 0.6062\n",
      "Epoch 9/10\n",
      "180/180 [==============================] - 3s 17ms/step - loss: 0.6609 - accuracy: 0.6264 - val_loss: 0.6711 - val_accuracy: 0.6062\n",
      "Epoch 10/10\n",
      "180/180 [==============================] - 3s 18ms/step - loss: 0.6611 - accuracy: 0.6264 - val_loss: 0.6712 - val_accuracy: 0.6062\n",
      "50/50 [==============================] - 0s 7ms/step - loss: 0.6603 - accuracy: 0.6275\n",
      "Test Accuracy: 0.6274999976158142\n"
     ]
    }
   ],
   "source": [
    "import pandas as pd\n",
    "import numpy as np\n",
    "from sklearn.model_selection import train_test_split\n",
    "from sklearn.preprocessing import LabelEncoder\n",
    "from tensorflow.keras.models import Sequential\n",
    "from tensorflow.keras.layers import Dense, Flatten, Dropout\n",
    "from tensorflow.keras.optimizers import Adam\n",
    "from sklearn.metrics import accuracy_score\n",
    "\n",
    "# Load the dataset\n",
    "df = pd.read_excel(\"Arabic_Depression_10.000_Tweets.xlsx\", header=0)\n",
    "\n",
    "# Trim the dataset to match the number of samples in the embeddings\n",
    "df = df.head(8000)\n",
    "\n",
    "# Assuming the embeddings are already saved in a numpy file\n",
    "embeddings_list = np.load(\"Embeddings/MT5/ARABIC/arabic_mt5_transliterated_train_embeds.npy\")\n",
    "\n",
    "# Assuming the labels are in the 'label' column of the dataframe\n",
    "labels = df['label']\n",
    "\n",
    "# Encode the labels\n",
    "label_encoder = LabelEncoder()\n",
    "labels = label_encoder.fit_transform(labels)\n",
    "\n",
    "# Split the data into train and test sets\n",
    "X_train, X_test, y_train, y_test = train_test_split(embeddings_list, labels, test_size=0.2, random_state=42)\n",
    "\n",
    "# Define a simple deep neural network model\n",
    "model = Sequential([\n",
    "    Flatten(input_shape=(X_train.shape[1:])),  # Flatten the 3D embeddings to 1D\n",
    "    Dense(256, activation='relu'),\n",
    "    Dropout(0.5),\n",
    "    Dense(128, activation='relu'),\n",
    "    Dropout(0.5),\n",
    "    Dense(1, activation='sigmoid')\n",
    "])\n",
    "\n",
    "# Compile the model\n",
    "model.compile(optimizer=Adam(learning_rate=0.001),\n",
    "              loss='binary_crossentropy',\n",
    "              metrics=['accuracy'])\n",
    "\n",
    "# Train the model\n",
    "model.fit(X_train, y_train, epochs=10, batch_size=32, validation_split=0.1)\n",
    "\n",
    "# Evaluate the model on test data\n",
    "test_loss, test_accuracy = model.evaluate(X_test, y_test)\n",
    "print(\"Test Accuracy:\", test_accuracy)\n"
   ]
  },
  {
   "cell_type": "code",
   "execution_count": 4,
   "id": "a7c68f54",
   "metadata": {},
   "outputs": [
    {
     "name": "stdout",
     "output_type": "stream",
     "text": [
      "50/50 [==============================] - 0s 7ms/step\n",
      "Test Accuracy: 0.6275\n",
      "Precision: 0.6275\n",
      "Recall: 1.0\n",
      "F1 Score: 0.771121351766513\n"
     ]
    }
   ],
   "source": [
    "from sklearn.metrics import accuracy_score, precision_score, recall_score, f1_score\n",
    "\n",
    "y_pred = (model.predict(X_test) > 0.5).astype(\"int32\")  # Convert probabilities to binary predictions\n",
    "accuracy = accuracy_score(y_test, y_pred)\n",
    "precision = precision_score(y_test, y_pred)\n",
    "recall = recall_score(y_test, y_pred)\n",
    "f1 = f1_score(y_test, y_pred)\n",
    "\n",
    "print(\"Test Accuracy:\", accuracy)\n",
    "print(\"Precision:\", precision)\n",
    "print(\"Recall:\", recall)\n",
    "print(\"F1 Score:\", f1)"
   ]
  },
  {
   "cell_type": "code",
   "execution_count": null,
   "id": "f128cad5",
   "metadata": {},
   "outputs": [],
   "source": []
  }
 ],
 "metadata": {
  "kernelspec": {
   "display_name": "Python 3 (ipykernel)",
   "language": "python",
   "name": "python3"
  },
  "language_info": {
   "codemirror_mode": {
    "name": "ipython",
    "version": 3
   },
   "file_extension": ".py",
   "mimetype": "text/x-python",
   "name": "python",
   "nbconvert_exporter": "python",
   "pygments_lexer": "ipython3",
   "version": "3.8.12"
  }
 },
 "nbformat": 4,
 "nbformat_minor": 5
}
