{
 "cells": [
  {
   "cell_type": "code",
   "execution_count": 1,
   "id": "e6132bf5",
   "metadata": {},
   "outputs": [
    {
     "name": "stdout",
     "output_type": "stream",
     "text": [
      "Looking in indexes: https://pypi.org/simple, https://pypi.ngc.nvidia.com\n",
      "Requirement already satisfied: torch in /home/abcd/anaconda3/envs/abcd/lib/python3.8/site-packages (2.0.1)\n",
      "Requirement already satisfied: torchvision in /home/abcd/anaconda3/envs/abcd/lib/python3.8/site-packages (0.15.2)\n",
      "Requirement already satisfied: torchaudio in /home/abcd/anaconda3/envs/abcd/lib/python3.8/site-packages (2.0.2)\n",
      "Requirement already satisfied: nvidia-curand-cu11==10.2.10.91 in /home/abcd/anaconda3/envs/abcd/lib/python3.8/site-packages (from torch) (10.2.10.91)\n",
      "Requirement already satisfied: nvidia-cusparse-cu11==11.7.4.91 in /home/abcd/anaconda3/envs/abcd/lib/python3.8/site-packages (from torch) (11.7.4.91)\n",
      "Requirement already satisfied: nvidia-nccl-cu11==2.14.3 in /home/abcd/anaconda3/envs/abcd/lib/python3.8/site-packages (from torch) (2.14.3)\n",
      "Requirement already satisfied: filelock in /home/abcd/anaconda3/envs/abcd/lib/python3.8/site-packages (from torch) (3.7.0)\n",
      "Requirement already satisfied: nvidia-cufft-cu11==10.9.0.58 in /home/abcd/anaconda3/envs/abcd/lib/python3.8/site-packages (from torch) (10.9.0.58)\n",
      "Requirement already satisfied: typing-extensions in /home/abcd/anaconda3/envs/abcd/lib/python3.8/site-packages (from torch) (4.7.1)\n",
      "Requirement already satisfied: sympy in /home/abcd/anaconda3/envs/abcd/lib/python3.8/site-packages (from torch) (1.12)\n",
      "Requirement already satisfied: networkx in /home/abcd/anaconda3/envs/abcd/lib/python3.8/site-packages (from torch) (3.1)\n",
      "Requirement already satisfied: triton==2.0.0 in /home/abcd/anaconda3/envs/abcd/lib/python3.8/site-packages (from torch) (2.0.0)\n",
      "Requirement already satisfied: nvidia-cublas-cu11==11.10.3.66 in /home/abcd/anaconda3/envs/abcd/lib/python3.8/site-packages (from torch) (11.10.3.66)\n",
      "Requirement already satisfied: nvidia-nvtx-cu11==11.7.91 in /home/abcd/anaconda3/envs/abcd/lib/python3.8/site-packages (from torch) (11.7.91)\n",
      "Requirement already satisfied: nvidia-cuda-cupti-cu11==11.7.101 in /home/abcd/anaconda3/envs/abcd/lib/python3.8/site-packages (from torch) (11.7.101)\n",
      "Requirement already satisfied: nvidia-cuda-nvrtc-cu11==11.7.99 in /home/abcd/anaconda3/envs/abcd/lib/python3.8/site-packages (from torch) (11.7.99)\n",
      "Requirement already satisfied: nvidia-cusolver-cu11==11.4.0.1 in /home/abcd/anaconda3/envs/abcd/lib/python3.8/site-packages (from torch) (11.4.0.1)\n",
      "Requirement already satisfied: nvidia-cudnn-cu11==8.5.0.96 in /home/abcd/anaconda3/envs/abcd/lib/python3.8/site-packages (from torch) (8.5.0.96)\n",
      "Requirement already satisfied: nvidia-cuda-runtime-cu11==11.7.99 in /home/abcd/anaconda3/envs/abcd/lib/python3.8/site-packages (from torch) (11.7.99)\n",
      "Requirement already satisfied: jinja2 in /home/abcd/anaconda3/envs/abcd/lib/python3.8/site-packages (from torch) (3.0.3)\n",
      "Requirement already satisfied: setuptools in /home/abcd/anaconda3/envs/abcd/lib/python3.8/site-packages (from nvidia-cublas-cu11==11.10.3.66->torch) (61.2.0)\n",
      "Requirement already satisfied: wheel in /home/abcd/anaconda3/envs/abcd/lib/python3.8/site-packages (from nvidia-cublas-cu11==11.10.3.66->torch) (0.37.1)\n",
      "Requirement already satisfied: cmake in /home/abcd/anaconda3/envs/abcd/lib/python3.8/site-packages (from triton==2.0.0->torch) (3.27.1)\n",
      "Requirement already satisfied: lit in /home/abcd/anaconda3/envs/abcd/lib/python3.8/site-packages (from triton==2.0.0->torch) (16.0.6)\n",
      "Requirement already satisfied: pillow!=8.3.*,>=5.3.0 in /home/abcd/anaconda3/envs/abcd/lib/python3.8/site-packages (from torchvision) (9.0.1)\n",
      "Requirement already satisfied: requests in /home/abcd/anaconda3/envs/abcd/lib/python3.8/site-packages (from torchvision) (2.28.1)\n",
      "Requirement already satisfied: numpy in /home/abcd/.local/lib/python3.8/site-packages (from torchvision) (1.23.1)\n",
      "Requirement already satisfied: MarkupSafe>=2.0 in /home/abcd/.local/lib/python3.8/site-packages (from jinja2->torch) (2.1.1)\n",
      "Requirement already satisfied: certifi>=2017.4.17 in /home/abcd/anaconda3/envs/abcd/lib/python3.8/site-packages (from requests->torchvision) (2022.6.15)\n",
      "Requirement already satisfied: urllib3<1.27,>=1.21.1 in /home/abcd/anaconda3/envs/abcd/lib/python3.8/site-packages (from requests->torchvision) (1.26.11)\n",
      "Requirement already satisfied: idna<4,>=2.5 in /home/abcd/anaconda3/envs/abcd/lib/python3.8/site-packages (from requests->torchvision) (3.3)\n",
      "Requirement already satisfied: charset-normalizer<3,>=2 in /home/abcd/anaconda3/envs/abcd/lib/python3.8/site-packages (from requests->torchvision) (2.0.11)\n",
      "Requirement already satisfied: mpmath>=0.19 in /home/abcd/anaconda3/envs/abcd/lib/python3.8/site-packages (from sympy->torch) (1.3.0)\n"
     ]
    }
   ],
   "source": [
    "!pip install torch torchvision torchaudio"
   ]
  },
  {
   "cell_type": "code",
   "execution_count": 2,
   "id": "e144ef73",
   "metadata": {},
   "outputs": [],
   "source": [
    "import os\n",
    "os.environ[\"CUDA_VISIBLE_DEVICES\"]=\"-1\"  # To disable GPU\n"
   ]
  },
  {
   "cell_type": "code",
   "execution_count": 3,
   "id": "657308fd",
   "metadata": {},
   "outputs": [
    {
     "name": "stdout",
     "output_type": "stream",
     "text": [
      "Looking in indexes: https://pypi.org/simple, https://pypi.ngc.nvidia.com\n",
      "Requirement already satisfied: torch in /home/abcd/anaconda3/envs/abcd/lib/python3.8/site-packages (2.0.1)\n",
      "Requirement already satisfied: sympy in /home/abcd/anaconda3/envs/abcd/lib/python3.8/site-packages (from torch) (1.12)\n",
      "Requirement already satisfied: triton==2.0.0 in /home/abcd/anaconda3/envs/abcd/lib/python3.8/site-packages (from torch) (2.0.0)\n",
      "Requirement already satisfied: nvidia-cublas-cu11==11.10.3.66 in /home/abcd/anaconda3/envs/abcd/lib/python3.8/site-packages (from torch) (11.10.3.66)\n",
      "Requirement already satisfied: nvidia-cufft-cu11==10.9.0.58 in /home/abcd/anaconda3/envs/abcd/lib/python3.8/site-packages (from torch) (10.9.0.58)\n",
      "Requirement already satisfied: nvidia-nvtx-cu11==11.7.91 in /home/abcd/anaconda3/envs/abcd/lib/python3.8/site-packages (from torch) (11.7.91)\n",
      "Requirement already satisfied: nvidia-curand-cu11==10.2.10.91 in /home/abcd/anaconda3/envs/abcd/lib/python3.8/site-packages (from torch) (10.2.10.91)\n",
      "Requirement already satisfied: filelock in /home/abcd/anaconda3/envs/abcd/lib/python3.8/site-packages (from torch) (3.7.0)\n",
      "Requirement already satisfied: nvidia-cuda-nvrtc-cu11==11.7.99 in /home/abcd/anaconda3/envs/abcd/lib/python3.8/site-packages (from torch) (11.7.99)\n",
      "Requirement already satisfied: nvidia-cuda-cupti-cu11==11.7.101 in /home/abcd/anaconda3/envs/abcd/lib/python3.8/site-packages (from torch) (11.7.101)\n",
      "Requirement already satisfied: nvidia-cusolver-cu11==11.4.0.1 in /home/abcd/anaconda3/envs/abcd/lib/python3.8/site-packages (from torch) (11.4.0.1)\n",
      "Requirement already satisfied: nvidia-cuda-runtime-cu11==11.7.99 in /home/abcd/anaconda3/envs/abcd/lib/python3.8/site-packages (from torch) (11.7.99)\n",
      "Requirement already satisfied: nvidia-cusparse-cu11==11.7.4.91 in /home/abcd/anaconda3/envs/abcd/lib/python3.8/site-packages (from torch) (11.7.4.91)\n",
      "Requirement already satisfied: jinja2 in /home/abcd/anaconda3/envs/abcd/lib/python3.8/site-packages (from torch) (3.0.3)\n",
      "Requirement already satisfied: networkx in /home/abcd/anaconda3/envs/abcd/lib/python3.8/site-packages (from torch) (3.1)\n",
      "Requirement already satisfied: nvidia-nccl-cu11==2.14.3 in /home/abcd/anaconda3/envs/abcd/lib/python3.8/site-packages (from torch) (2.14.3)\n",
      "Requirement already satisfied: typing-extensions in /home/abcd/anaconda3/envs/abcd/lib/python3.8/site-packages (from torch) (4.7.1)\n",
      "Requirement already satisfied: nvidia-cudnn-cu11==8.5.0.96 in /home/abcd/anaconda3/envs/abcd/lib/python3.8/site-packages (from torch) (8.5.0.96)\n",
      "Requirement already satisfied: wheel in /home/abcd/anaconda3/envs/abcd/lib/python3.8/site-packages (from nvidia-cublas-cu11==11.10.3.66->torch) (0.37.1)\n",
      "Requirement already satisfied: setuptools in /home/abcd/anaconda3/envs/abcd/lib/python3.8/site-packages (from nvidia-cublas-cu11==11.10.3.66->torch) (61.2.0)\n",
      "Requirement already satisfied: cmake in /home/abcd/anaconda3/envs/abcd/lib/python3.8/site-packages (from triton==2.0.0->torch) (3.27.1)\n",
      "Requirement already satisfied: lit in /home/abcd/anaconda3/envs/abcd/lib/python3.8/site-packages (from triton==2.0.0->torch) (16.0.6)\n",
      "Requirement already satisfied: MarkupSafe>=2.0 in /home/abcd/.local/lib/python3.8/site-packages (from jinja2->torch) (2.1.1)\n",
      "Requirement already satisfied: mpmath>=0.19 in /home/abcd/anaconda3/envs/abcd/lib/python3.8/site-packages (from sympy->torch) (1.3.0)\n"
     ]
    }
   ],
   "source": [
    "!pip install torch"
   ]
  },
  {
   "cell_type": "code",
   "execution_count": 4,
   "id": "cda5a318",
   "metadata": {},
   "outputs": [],
   "source": [
    "import torch"
   ]
  },
  {
   "cell_type": "code",
   "execution_count": 5,
   "id": "5ae48d4d",
   "metadata": {},
   "outputs": [
    {
     "name": "stdout",
     "output_type": "stream",
     "text": [
      "Device: cpu\n"
     ]
    }
   ],
   "source": [
    "# Check if CUDA (GPU) is available\n",
    "device = torch.device('cuda' if torch.cuda.is_available() else 'cpu')\n",
    "print(\"Device:\", device)\n"
   ]
  },
  {
   "cell_type": "code",
   "execution_count": 6,
   "id": "39a12c00",
   "metadata": {},
   "outputs": [
    {
     "name": "stderr",
     "output_type": "stream",
     "text": [
      "/home/abcd/anaconda3/envs/abcd/lib/python3.8/site-packages/scipy/__init__.py:146: UserWarning: A NumPy version >=1.16.5 and <1.23.0 is required for this version of SciPy (detected version 1.23.1\n",
      "  warnings.warn(f\"A NumPy version >={np_minversion} and <{np_maxversion}\"\n",
      "2024-03-27 19:01:08.524216: I tensorflow/core/platform/cpu_feature_guard.cc:193] This TensorFlow binary is optimized with oneAPI Deep Neural Network Library (oneDNN) to use the following CPU instructions in performance-critical operations:  AVX2 AVX512F AVX512_VNNI FMA\n",
      "To enable them in other operations, rebuild TensorFlow with the appropriate compiler flags.\n",
      "2024-03-27 19:01:08.659938: I tensorflow/core/util/util.cc:169] oneDNN custom operations are on. You may see slightly different numerical results due to floating-point round-off errors from different computation orders. To turn them off, set the environment variable `TF_ENABLE_ONEDNN_OPTS=0`.\n",
      "2024-03-27 19:01:08.688234: E tensorflow/stream_executor/cuda/cuda_blas.cc:2981] Unable to register cuBLAS factory: Attempting to register factory for plugin cuBLAS when one has already been registered\n",
      "2024-03-27 19:01:09.210151: W tensorflow/stream_executor/platform/default/dso_loader.cc:64] Could not load dynamic library 'libnvinfer.so.7'; dlerror: libnvinfer.so.7: cannot open shared object file: No such file or directory; LD_LIBRARY_PATH: /usr/local/cuda-11.0/lib64/stubs:/usr/local/cuda-11.0/lib64:/usr/local/cuda-10.0/lib64/stubs:/usr/local/cuda-10.0/lib64:::\n",
      "2024-03-27 19:01:09.210225: W tensorflow/stream_executor/platform/default/dso_loader.cc:64] Could not load dynamic library 'libnvinfer_plugin.so.7'; dlerror: libnvinfer_plugin.so.7: cannot open shared object file: No such file or directory; LD_LIBRARY_PATH: /usr/local/cuda-11.0/lib64/stubs:/usr/local/cuda-11.0/lib64:/usr/local/cuda-10.0/lib64/stubs:/usr/local/cuda-10.0/lib64:::\n",
      "2024-03-27 19:01:09.210230: W tensorflow/compiler/tf2tensorrt/utils/py_utils.cc:38] TF-TRT Warning: Cannot dlopen some TensorRT libraries. If you would like to use Nvidia GPU with TensorRT, please make sure the missing libraries mentioned above are installed properly.\n",
      "2024-03-27 19:01:13.747209: E tensorflow/stream_executor/cuda/cuda_driver.cc:265] failed call to cuInit: CUDA_ERROR_NO_DEVICE: no CUDA-capable device is detected\n",
      "2024-03-27 19:01:13.747296: I tensorflow/stream_executor/cuda/cuda_diagnostics.cc:169] retrieving CUDA diagnostic information for host: user\n",
      "2024-03-27 19:01:13.747313: I tensorflow/stream_executor/cuda/cuda_diagnostics.cc:176] hostname: user\n",
      "2024-03-27 19:01:13.747418: I tensorflow/stream_executor/cuda/cuda_diagnostics.cc:200] libcuda reported version is: 515.105.1\n",
      "2024-03-27 19:01:13.747471: I tensorflow/stream_executor/cuda/cuda_diagnostics.cc:204] kernel reported version is: 515.105.1\n",
      "2024-03-27 19:01:13.747485: I tensorflow/stream_executor/cuda/cuda_diagnostics.cc:310] kernel version seems to match DSO: 515.105.1\n",
      "2024-03-27 19:01:13.748305: I tensorflow/core/platform/cpu_feature_guard.cc:193] This TensorFlow binary is optimized with oneAPI Deep Neural Network Library (oneDNN) to use the following CPU instructions in performance-critical operations:  AVX2 AVX512F AVX512_VNNI FMA\n",
      "To enable them in other operations, rebuild TensorFlow with the appropriate compiler flags.\n"
     ]
    },
    {
     "name": "stdout",
     "output_type": "stream",
     "text": [
      "Epoch 1/10\n",
      "71/71 [==============================] - 6s 72ms/step - loss: 24.8945 - accuracy: 0.5983 - val_loss: 1.0268 - val_accuracy: 0.7410\n",
      "Epoch 2/10\n",
      "71/71 [==============================] - 5s 68ms/step - loss: 0.7673 - accuracy: 0.7177 - val_loss: 0.6290 - val_accuracy: 0.7410\n",
      "Epoch 3/10\n",
      "71/71 [==============================] - 5s 69ms/step - loss: 0.6348 - accuracy: 0.7306 - val_loss: 0.5987 - val_accuracy: 0.7410\n",
      "Epoch 4/10\n",
      "71/71 [==============================] - 5s 68ms/step - loss: 0.5973 - accuracy: 0.7328 - val_loss: 0.5841 - val_accuracy: 0.7410\n",
      "Epoch 5/10\n",
      "71/71 [==============================] - 5s 69ms/step - loss: 0.5927 - accuracy: 0.7328 - val_loss: 0.5775 - val_accuracy: 0.7410\n",
      "Epoch 6/10\n",
      "71/71 [==============================] - 5s 68ms/step - loss: 0.5826 - accuracy: 0.7328 - val_loss: 0.5739 - val_accuracy: 0.7410\n",
      "Epoch 7/10\n",
      "71/71 [==============================] - 5s 69ms/step - loss: 0.5831 - accuracy: 0.7328 - val_loss: 0.5732 - val_accuracy: 0.7410\n",
      "Epoch 8/10\n",
      "71/71 [==============================] - 5s 69ms/step - loss: 0.5828 - accuracy: 0.7324 - val_loss: 0.5728 - val_accuracy: 0.7410\n",
      "Epoch 9/10\n",
      "71/71 [==============================] - 5s 69ms/step - loss: 0.5834 - accuracy: 0.7328 - val_loss: 0.5726 - val_accuracy: 0.7410\n",
      "Epoch 10/10\n",
      "71/71 [==============================] - 5s 68ms/step - loss: 0.5838 - accuracy: 0.7328 - val_loss: 0.5725 - val_accuracy: 0.7410\n",
      "20/20 [==============================] - 0s 16ms/step - loss: 0.5672 - accuracy: 0.7464\n",
      "Test Accuracy: 0.7464115023612976\n"
     ]
    }
   ],
   "source": [
    "import pandas as pd\n",
    "import numpy as np\n",
    "from sklearn.model_selection import train_test_split\n",
    "from sklearn.preprocessing import LabelEncoder\n",
    "from tensorflow.keras.models import Sequential\n",
    "from tensorflow.keras.layers import Dense, Flatten, Dropout\n",
    "from tensorflow.keras.optimizers import Adam\n",
    "from sklearn.metrics import accuracy_score\n",
    "\n",
    "# Load the dataset\n",
    "df = pd.read_excel(\"Bangla2.xlsx\", header=0)\n",
    "\n",
    "# Trim the dataset to match the number of samples in the embeddings\n",
    "df = df.head(3131)\n",
    "\n",
    "# Assuming the embeddings are already saved in a numpy file\n",
    "embeddings_list = np.load(\"Embeddings/MT5/BANGLA/bangla_mt5_transliterated_train_embeds.npy\")\n",
    "\n",
    "# Assuming the labels are in the 'label' column of the dataframe\n",
    "labels = df['labels']\n",
    "\n",
    "# Encode the labels\n",
    "label_encoder = LabelEncoder()\n",
    "labels = label_encoder.fit_transform(labels)\n",
    "\n",
    "# Split the data into train and test sets\n",
    "X_train, X_test, y_train, y_test = train_test_split(embeddings_list, labels, test_size=0.2, random_state=42)\n",
    "\n",
    "# Define a simple deep neural network model\n",
    "model = Sequential([\n",
    "    Flatten(input_shape=(X_train.shape[1:])),  # Flatten the 3D embeddings to 1D\n",
    "    Dense(256, activation='relu'),\n",
    "    Dropout(0.5),\n",
    "    Dense(128, activation='relu'),\n",
    "    Dropout(0.5),\n",
    "    Dense(1, activation='sigmoid')\n",
    "])\n",
    "\n",
    "# Compile the model\n",
    "model.compile(optimizer=Adam(learning_rate=0.001),\n",
    "              loss='binary_crossentropy',\n",
    "              metrics=['accuracy'])\n",
    "\n",
    "# Train the model\n",
    "model.fit(X_train, y_train, epochs=10, batch_size=32, validation_split=0.1)\n",
    "\n",
    "# Evaluate the model on test data\n",
    "test_loss, test_accuracy = model.evaluate(X_test, y_test)\n",
    "print(\"Test Accuracy:\", test_accuracy)\n"
   ]
  },
  {
   "cell_type": "code",
   "execution_count": 8,
   "id": "a97081f8",
   "metadata": {},
   "outputs": [
    {
     "name": "stdout",
     "output_type": "stream",
     "text": [
      "20/20 [==============================] - 0s 15ms/step\n",
      "Test Accuracy: 0.7464114832535885\n",
      "Precision: 0.557130102332822\n",
      "Recall: 0.7464114832535885\n",
      "F1 Score: 0.6380284459592319\n"
     ]
    },
    {
     "name": "stderr",
     "output_type": "stream",
     "text": [
      "/home/abcd/anaconda3/envs/abcd/lib/python3.8/site-packages/sklearn/metrics/_classification.py:1327: UndefinedMetricWarning: Precision is ill-defined and being set to 0.0 in labels with no predicted samples. Use `zero_division` parameter to control this behavior.\n",
      "  _warn_prf(average, modifier, msg_start, len(result))\n"
     ]
    }
   ],
   "source": [
    "from sklearn.metrics import accuracy_score, precision_score, recall_score, f1_score\n",
    "\n",
    "y_pred = (model.predict(X_test) > 0.5).astype(\"int32\")  # Convert probabilities to binary predictions\n",
    "accuracy = accuracy_score(y_test, y_pred)\n",
    "precision = precision_score(y_test, y_pred, average='weighted')\n",
    "recall = recall_score(y_test, y_pred, average='weighted')\n",
    "f1 = f1_score(y_test, y_pred, average='weighted')\n",
    "\n",
    "print(\"Test Accuracy:\", accuracy)\n",
    "print(\"Precision:\", precision)\n",
    "print(\"Recall:\", recall)\n",
    "print(\"F1 Score:\", f1)"
   ]
  },
  {
   "cell_type": "code",
   "execution_count": null,
   "id": "6b51b44d",
   "metadata": {},
   "outputs": [],
   "source": []
  }
 ],
 "metadata": {
  "kernelspec": {
   "display_name": "Python 3 (ipykernel)",
   "language": "python",
   "name": "python3"
  },
  "language_info": {
   "codemirror_mode": {
    "name": "ipython",
    "version": 3
   },
   "file_extension": ".py",
   "mimetype": "text/x-python",
   "name": "python",
   "nbconvert_exporter": "python",
   "pygments_lexer": "ipython3",
   "version": "3.8.12"
  }
 },
 "nbformat": 4,
 "nbformat_minor": 5
}
