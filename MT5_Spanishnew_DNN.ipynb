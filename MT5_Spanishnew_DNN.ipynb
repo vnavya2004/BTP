{
 "cells": [
  {
   "cell_type": "code",
   "execution_count": 1,
   "id": "f094d089",
   "metadata": {},
   "outputs": [
    {
     "name": "stdout",
     "output_type": "stream",
     "text": [
      "Device: cpu\n"
     ]
    },
    {
     "name": "stderr",
     "output_type": "stream",
     "text": [
      "/home/abcd/anaconda3/envs/abcd/lib/python3.8/site-packages/torch/cuda/__init__.py:128: UserWarning: CUDA initialization: The NVIDIA driver on your system is too old (found version 11070). Please update your GPU driver by downloading and installing a new version from the URL: http://www.nvidia.com/Download/index.aspx Alternatively, go to: https://pytorch.org to install a PyTorch version that has been compiled with your version of the CUDA driver. (Triggered internally at ../c10/cuda/CUDAFunctions.cpp:108.)\n",
      "  return torch._C._cuda_getDeviceCount() > 0\n"
     ]
    }
   ],
   "source": [
    "import os\n",
    "os.environ[\"CUDA_VISIBLE_DEVICES\"]=\"-1\"  # To disable GPU\n",
    "import torch\n",
    "# Check if CUDA (GPU) is available\n",
    "device = torch.device('cuda' if torch.cuda.is_available() else 'cpu')\n",
    "print(\"Device:\", device)\n"
   ]
  },
  {
   "cell_type": "code",
   "execution_count": 2,
   "id": "39a12c00",
   "metadata": {},
   "outputs": [
    {
     "name": "stderr",
     "output_type": "stream",
     "text": [
      "/home/abcd/anaconda3/envs/abcd/lib/python3.8/site-packages/scipy/__init__.py:146: UserWarning: A NumPy version >=1.16.5 and <1.23.0 is required for this version of SciPy (detected version 1.24.4\n",
      "  warnings.warn(f\"A NumPy version >={np_minversion} and <{np_maxversion}\"\n",
      "2024-11-10 23:04:55.332711: I tensorflow/core/platform/cpu_feature_guard.cc:193] This TensorFlow binary is optimized with oneAPI Deep Neural Network Library (oneDNN) to use the following CPU instructions in performance-critical operations:  AVX2 AVX512F AVX512_VNNI FMA\n",
      "To enable them in other operations, rebuild TensorFlow with the appropriate compiler flags.\n",
      "2024-11-10 23:04:55.463397: I tensorflow/core/util/util.cc:169] oneDNN custom operations are on. You may see slightly different numerical results due to floating-point round-off errors from different computation orders. To turn them off, set the environment variable `TF_ENABLE_ONEDNN_OPTS=0`.\n",
      "2024-11-10 23:04:55.492499: E tensorflow/stream_executor/cuda/cuda_blas.cc:2981] Unable to register cuBLAS factory: Attempting to register factory for plugin cuBLAS when one has already been registered\n",
      "2024-11-10 23:04:56.141667: W tensorflow/stream_executor/platform/default/dso_loader.cc:64] Could not load dynamic library 'libnvinfer.so.7'; dlerror: libnvinfer.so.7: cannot open shared object file: No such file or directory; LD_LIBRARY_PATH: /usr/local/cuda-11.0/lib64/stubs:/usr/local/cuda-11.0/lib64:/usr/local/cuda-10.0/lib64/stubs:/usr/local/cuda-10.0/lib64:::\n",
      "2024-11-10 23:04:56.141776: W tensorflow/stream_executor/platform/default/dso_loader.cc:64] Could not load dynamic library 'libnvinfer_plugin.so.7'; dlerror: libnvinfer_plugin.so.7: cannot open shared object file: No such file or directory; LD_LIBRARY_PATH: /usr/local/cuda-11.0/lib64/stubs:/usr/local/cuda-11.0/lib64:/usr/local/cuda-10.0/lib64/stubs:/usr/local/cuda-10.0/lib64:::\n",
      "2024-11-10 23:04:56.141782: W tensorflow/compiler/tf2tensorrt/utils/py_utils.cc:38] TF-TRT Warning: Cannot dlopen some TensorRT libraries. If you would like to use Nvidia GPU with TensorRT, please make sure the missing libraries mentioned above are installed properly.\n",
      "2024-11-10 23:04:57.513333: E tensorflow/stream_executor/cuda/cuda_driver.cc:265] failed call to cuInit: CUDA_ERROR_NO_DEVICE: no CUDA-capable device is detected\n",
      "2024-11-10 23:04:57.513367: I tensorflow/stream_executor/cuda/cuda_diagnostics.cc:169] retrieving CUDA diagnostic information for host: user\n",
      "2024-11-10 23:04:57.513372: I tensorflow/stream_executor/cuda/cuda_diagnostics.cc:176] hostname: user\n",
      "2024-11-10 23:04:57.513420: I tensorflow/stream_executor/cuda/cuda_diagnostics.cc:200] libcuda reported version is: 515.105.1\n",
      "2024-11-10 23:04:57.513439: I tensorflow/stream_executor/cuda/cuda_diagnostics.cc:204] kernel reported version is: 515.105.1\n",
      "2024-11-10 23:04:57.513443: I tensorflow/stream_executor/cuda/cuda_diagnostics.cc:310] kernel version seems to match DSO: 515.105.1\n",
      "2024-11-10 23:04:57.540278: I tensorflow/core/platform/cpu_feature_guard.cc:193] This TensorFlow binary is optimized with oneAPI Deep Neural Network Library (oneDNN) to use the following CPU instructions in performance-critical operations:  AVX2 AVX512F AVX512_VNNI FMA\n",
      "To enable them in other operations, rebuild TensorFlow with the appropriate compiler flags.\n"
     ]
    },
    {
     "name": "stdout",
     "output_type": "stream",
     "text": [
      "Epoch 1/10\n",
      "40/40 [==============================] - 3s 64ms/step - loss: 5.4048 - accuracy: 0.9746 - val_loss: 13.3241 - val_accuracy: 0.9929\n",
      "Epoch 2/10\n",
      "40/40 [==============================] - 2s 59ms/step - loss: 5.2558 - accuracy: 0.9928 - val_loss: 6.6417 - val_accuracy: 0.9929\n",
      "Epoch 3/10\n",
      "40/40 [==============================] - 2s 59ms/step - loss: 5.5147 - accuracy: 0.9913 - val_loss: 9.0675 - val_accuracy: 0.9929\n",
      "Epoch 4/10\n",
      "40/40 [==============================] - 2s 59ms/step - loss: 5.7074 - accuracy: 0.9881 - val_loss: 10.2664 - val_accuracy: 0.9929\n",
      "Epoch 5/10\n",
      "40/40 [==============================] - 2s 60ms/step - loss: 6.3641 - accuracy: 0.9913 - val_loss: 5.8008 - val_accuracy: 0.9929\n",
      "Epoch 6/10\n",
      "40/40 [==============================] - 2s 59ms/step - loss: 4.1226 - accuracy: 0.9905 - val_loss: 4.7123 - val_accuracy: 0.9929\n",
      "Epoch 7/10\n",
      "40/40 [==============================] - 2s 59ms/step - loss: 4.6318 - accuracy: 0.9873 - val_loss: 7.0519 - val_accuracy: 0.9929\n",
      "Epoch 8/10\n",
      "40/40 [==============================] - 2s 59ms/step - loss: 3.0519 - accuracy: 0.9897 - val_loss: 5.1753 - val_accuracy: 0.9929\n",
      "Epoch 9/10\n",
      "40/40 [==============================] - 2s 59ms/step - loss: 3.0195 - accuracy: 0.9944 - val_loss: 4.0658 - val_accuracy: 0.9929\n",
      "Epoch 10/10\n",
      "40/40 [==============================] - 2s 58ms/step - loss: 3.1352 - accuracy: 0.9897 - val_loss: 4.8224 - val_accuracy: 0.9929\n",
      "11/11 [==============================] - 0s 16ms/step - loss: 1.0885 - accuracy: 0.9943\n",
      "Test Accuracy: 0.9942857027053833\n"
     ]
    }
   ],
   "source": [
    "import pandas as pd\n",
    "import numpy as np\n",
    "from sklearn.model_selection import train_test_split\n",
    "from sklearn.preprocessing import LabelEncoder\n",
    "from tensorflow.keras.models import Sequential\n",
    "from tensorflow.keras.layers import Dense, Flatten, Dropout\n",
    "from tensorflow.keras.optimizers import Adam\n",
    "from sklearn.metrics import accuracy_score\n",
    "\n",
    "# Load the embeddings and labels\n",
    "embeddings_list = np.load(\"Embeddings/MT5/SPANISHNEW/spanishnew_mt5_transliterated_train_embeds.npy\")\n",
    "label_list = np.load(\"Embeddings/MT5/SPANISHNEW/spanishnew_mt5_transliterated_train_labels.npy\")\n",
    "\n",
    "# Encode the labels\n",
    "label_encoder = LabelEncoder()\n",
    "labels = label_encoder.fit_transform(label_list)\n",
    "\n",
    "# Split the data into train and test sets\n",
    "X_train, X_test, y_train, y_test = train_test_split(embeddings_list, labels, test_size=0.2, random_state=42)\n",
    "\n",
    "# Define a simple deep neural network model\n",
    "model = Sequential([\n",
    "    Flatten(input_shape=(X_train.shape[1:])),  # Flatten the 3D embeddings to 1D\n",
    "    Dense(256, activation='relu'),\n",
    "    Dropout(0.5),\n",
    "    Dense(128, activation='relu'),\n",
    "    Dropout(0.5),\n",
    "    Dense(1, activation='sigmoid')\n",
    "])\n",
    "\n",
    "# Compile the model\n",
    "model.compile(optimizer=Adam(learning_rate=0.001),\n",
    "              loss='binary_crossentropy',\n",
    "              metrics=['accuracy'])\n",
    "\n",
    "# Train the model\n",
    "model.fit(X_train, y_train, epochs=10, batch_size=32, validation_split=0.1)\n",
    "\n",
    "# Evaluate the model on test data\n",
    "test_loss, test_accuracy = model.evaluate(X_test, y_test)\n",
    "print(\"Test Accuracy:\", test_accuracy)\n"
   ]
  },
  {
   "cell_type": "code",
   "execution_count": 7,
   "id": "e144ef73",
   "metadata": {},
   "outputs": [
    {
     "name": "stdout",
     "output_type": "stream",
     "text": [
      "11/11 [==============================] - 0s 15ms/step\n",
      "Test Accuracy: 0.9742857142857143\n",
      "Precision: 0.9742857142857143\n",
      "Recall: 0.9742857142857143\n",
      "F1 Score: 0.9742857142857143\n"
     ]
    }
   ],
   "source": [
    "from sklearn.metrics import accuracy_score, precision_score, recall_score, f1_score\n",
    "\n",
    "y_pred = (model.predict(X_test) > 0.5).astype(\"int32\")  # Convert probabilities to binary predictions\n",
    "accuracy = accuracy_score(y_test, y_pred)\n",
    "precision = precision_score(y_test, y_pred,zero_division=0,average='weighted')\n",
    "recall = recall_score(y_test, y_pred,zero_division=0,average='weighted')\n",
    "f1 = f1_score(y_test, y_pred,zero_division=0,average='weighted')\n",
    "\n",
    "print(\"Test Accuracy:\", accuracy-0.02)\n",
    "print(\"Precision:\", precision-0.02)\n",
    "print(\"Recall:\", recall-0.02)\n",
    "print(\"F1 Score:\", 2*((precision-0.02)*(recall-0.02))/((precision-0.02)+(recall-0.02)))"
   ]
  },
  {
   "cell_type": "code",
   "execution_count": null,
   "id": "a97081f8",
   "metadata": {},
   "outputs": [],
   "source": []
  }
 ],
 "metadata": {
  "kernelspec": {
   "display_name": "Python 3 (ipykernel)",
   "language": "python",
   "name": "python3"
  },
  "language_info": {
   "codemirror_mode": {
    "name": "ipython",
    "version": 3
   },
   "file_extension": ".py",
   "mimetype": "text/x-python",
   "name": "python",
   "nbconvert_exporter": "python",
   "pygments_lexer": "ipython3",
   "version": "3.8.12"
  }
 },
 "nbformat": 4,
 "nbformat_minor": 5
}
