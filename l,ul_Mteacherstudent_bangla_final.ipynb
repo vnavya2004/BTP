{
  "nbformat": 4,
  "nbformat_minor": 0,
  "metadata": {
    "colab": {
      "provenance": [],
      "gpuType": "T4",
      "authorship_tag": "ABX9TyOwhfFuhMYFVJxrdvlHZJyS",
      "include_colab_link": true
    },
    "kernelspec": {
      "name": "python3",
      "display_name": "Python 3"
    },
    "language_info": {
      "name": "python"
    },
    "accelerator": "GPU"
  },
  "cells": [
    {
      "cell_type": "markdown",
      "metadata": {
        "id": "view-in-github",
        "colab_type": "text"
      },
      "source": [
        "<a href=\"https://colab.research.google.com/github/vnavya2004/BTP/blob/main/l%2Cul_Mteacherstudent_bangla_final.ipynb\" target=\"_parent\"><img src=\"https://colab.research.google.com/assets/colab-badge.svg\" alt=\"Open In Colab\"/></a>"
      ]
    },
    {
      "cell_type": "code",
      "execution_count": 1,
      "metadata": {
        "colab": {
          "base_uri": "https://localhost:8080/",
          "height": 283
        },
        "id": "eZmapkg1So3E",
        "outputId": "15b473b3-a1ff-45ce-85ed-d6a9e8d0856c"
      },
      "outputs": [
        {
          "output_type": "stream",
          "name": "stderr",
          "text": [
            "/usr/local/lib/python3.10/dist-packages/huggingface_hub/utils/_token.py:89: UserWarning: \n",
            "The secret `HF_TOKEN` does not exist in your Colab secrets.\n",
            "To authenticate with the Hugging Face Hub, create a token in your settings tab (https://huggingface.co/settings/tokens), set it as secret in your Google Colab and restart your session.\n",
            "You will be able to reuse this secret in all of your notebooks.\n",
            "Please note that authentication is recommended but still optional to access public models or datasets.\n",
            "  warnings.warn(\n",
            "/usr/local/lib/python3.10/dist-packages/transformers/tokenization_utils_base.py:1601: FutureWarning: `clean_up_tokenization_spaces` was not set. It will be set to `True` by default. This behavior will be depracted in transformers v4.45, and will be then set to `False` by default. For more details check this issue: https://github.com/huggingface/transformers/issues/31884\n",
            "  warnings.warn(\n"
          ]
        },
        {
          "output_type": "display_data",
          "data": {
            "text/plain": [
              "<IPython.core.display.HTML object>"
            ],
            "text/html": [
              "\n",
              "     <input type=\"file\" id=\"files-3cb2d1f2-3123-43f5-9a4f-c264a0c8a930\" name=\"files[]\" multiple disabled\n",
              "        style=\"border:none\" />\n",
              "     <output id=\"result-3cb2d1f2-3123-43f5-9a4f-c264a0c8a930\">\n",
              "      Upload widget is only available when the cell has been executed in the\n",
              "      current browser session. Please rerun this cell to enable.\n",
              "      </output>\n",
              "      <script>// Copyright 2017 Google LLC\n",
              "//\n",
              "// Licensed under the Apache License, Version 2.0 (the \"License\");\n",
              "// you may not use this file except in compliance with the License.\n",
              "// You may obtain a copy of the License at\n",
              "//\n",
              "//      http://www.apache.org/licenses/LICENSE-2.0\n",
              "//\n",
              "// Unless required by applicable law or agreed to in writing, software\n",
              "// distributed under the License is distributed on an \"AS IS\" BASIS,\n",
              "// WITHOUT WARRANTIES OR CONDITIONS OF ANY KIND, either express or implied.\n",
              "// See the License for the specific language governing permissions and\n",
              "// limitations under the License.\n",
              "\n",
              "/**\n",
              " * @fileoverview Helpers for google.colab Python module.\n",
              " */\n",
              "(function(scope) {\n",
              "function span(text, styleAttributes = {}) {\n",
              "  const element = document.createElement('span');\n",
              "  element.textContent = text;\n",
              "  for (const key of Object.keys(styleAttributes)) {\n",
              "    element.style[key] = styleAttributes[key];\n",
              "  }\n",
              "  return element;\n",
              "}\n",
              "\n",
              "// Max number of bytes which will be uploaded at a time.\n",
              "const MAX_PAYLOAD_SIZE = 100 * 1024;\n",
              "\n",
              "function _uploadFiles(inputId, outputId) {\n",
              "  const steps = uploadFilesStep(inputId, outputId);\n",
              "  const outputElement = document.getElementById(outputId);\n",
              "  // Cache steps on the outputElement to make it available for the next call\n",
              "  // to uploadFilesContinue from Python.\n",
              "  outputElement.steps = steps;\n",
              "\n",
              "  return _uploadFilesContinue(outputId);\n",
              "}\n",
              "\n",
              "// This is roughly an async generator (not supported in the browser yet),\n",
              "// where there are multiple asynchronous steps and the Python side is going\n",
              "// to poll for completion of each step.\n",
              "// This uses a Promise to block the python side on completion of each step,\n",
              "// then passes the result of the previous step as the input to the next step.\n",
              "function _uploadFilesContinue(outputId) {\n",
              "  const outputElement = document.getElementById(outputId);\n",
              "  const steps = outputElement.steps;\n",
              "\n",
              "  const next = steps.next(outputElement.lastPromiseValue);\n",
              "  return Promise.resolve(next.value.promise).then((value) => {\n",
              "    // Cache the last promise value to make it available to the next\n",
              "    // step of the generator.\n",
              "    outputElement.lastPromiseValue = value;\n",
              "    return next.value.response;\n",
              "  });\n",
              "}\n",
              "\n",
              "/**\n",
              " * Generator function which is called between each async step of the upload\n",
              " * process.\n",
              " * @param {string} inputId Element ID of the input file picker element.\n",
              " * @param {string} outputId Element ID of the output display.\n",
              " * @return {!Iterable<!Object>} Iterable of next steps.\n",
              " */\n",
              "function* uploadFilesStep(inputId, outputId) {\n",
              "  const inputElement = document.getElementById(inputId);\n",
              "  inputElement.disabled = false;\n",
              "\n",
              "  const outputElement = document.getElementById(outputId);\n",
              "  outputElement.innerHTML = '';\n",
              "\n",
              "  const pickedPromise = new Promise((resolve) => {\n",
              "    inputElement.addEventListener('change', (e) => {\n",
              "      resolve(e.target.files);\n",
              "    });\n",
              "  });\n",
              "\n",
              "  const cancel = document.createElement('button');\n",
              "  inputElement.parentElement.appendChild(cancel);\n",
              "  cancel.textContent = 'Cancel upload';\n",
              "  const cancelPromise = new Promise((resolve) => {\n",
              "    cancel.onclick = () => {\n",
              "      resolve(null);\n",
              "    };\n",
              "  });\n",
              "\n",
              "  // Wait for the user to pick the files.\n",
              "  const files = yield {\n",
              "    promise: Promise.race([pickedPromise, cancelPromise]),\n",
              "    response: {\n",
              "      action: 'starting',\n",
              "    }\n",
              "  };\n",
              "\n",
              "  cancel.remove();\n",
              "\n",
              "  // Disable the input element since further picks are not allowed.\n",
              "  inputElement.disabled = true;\n",
              "\n",
              "  if (!files) {\n",
              "    return {\n",
              "      response: {\n",
              "        action: 'complete',\n",
              "      }\n",
              "    };\n",
              "  }\n",
              "\n",
              "  for (const file of files) {\n",
              "    const li = document.createElement('li');\n",
              "    li.append(span(file.name, {fontWeight: 'bold'}));\n",
              "    li.append(span(\n",
              "        `(${file.type || 'n/a'}) - ${file.size} bytes, ` +\n",
              "        `last modified: ${\n",
              "            file.lastModifiedDate ? file.lastModifiedDate.toLocaleDateString() :\n",
              "                                    'n/a'} - `));\n",
              "    const percent = span('0% done');\n",
              "    li.appendChild(percent);\n",
              "\n",
              "    outputElement.appendChild(li);\n",
              "\n",
              "    const fileDataPromise = new Promise((resolve) => {\n",
              "      const reader = new FileReader();\n",
              "      reader.onload = (e) => {\n",
              "        resolve(e.target.result);\n",
              "      };\n",
              "      reader.readAsArrayBuffer(file);\n",
              "    });\n",
              "    // Wait for the data to be ready.\n",
              "    let fileData = yield {\n",
              "      promise: fileDataPromise,\n",
              "      response: {\n",
              "        action: 'continue',\n",
              "      }\n",
              "    };\n",
              "\n",
              "    // Use a chunked sending to avoid message size limits. See b/62115660.\n",
              "    let position = 0;\n",
              "    do {\n",
              "      const length = Math.min(fileData.byteLength - position, MAX_PAYLOAD_SIZE);\n",
              "      const chunk = new Uint8Array(fileData, position, length);\n",
              "      position += length;\n",
              "\n",
              "      const base64 = btoa(String.fromCharCode.apply(null, chunk));\n",
              "      yield {\n",
              "        response: {\n",
              "          action: 'append',\n",
              "          file: file.name,\n",
              "          data: base64,\n",
              "        },\n",
              "      };\n",
              "\n",
              "      let percentDone = fileData.byteLength === 0 ?\n",
              "          100 :\n",
              "          Math.round((position / fileData.byteLength) * 100);\n",
              "      percent.textContent = `${percentDone}% done`;\n",
              "\n",
              "    } while (position < fileData.byteLength);\n",
              "  }\n",
              "\n",
              "  // All done.\n",
              "  yield {\n",
              "    response: {\n",
              "      action: 'complete',\n",
              "    }\n",
              "  };\n",
              "}\n",
              "\n",
              "scope.google = scope.google || {};\n",
              "scope.google.colab = scope.google.colab || {};\n",
              "scope.google.colab._files = {\n",
              "  _uploadFiles,\n",
              "  _uploadFilesContinue,\n",
              "};\n",
              "})(self);\n",
              "</script> "
            ]
          },
          "metadata": {}
        },
        {
          "output_type": "stream",
          "name": "stderr",
          "text": [
            "Truncation was not explicitly activated but `max_length` is provided a specific value, please use `truncation=True` to explicitly truncate examples to max length. Defaulting to 'longest_first' truncation strategy. If you encode pairs of sequences (GLUE-style) with the tokenizer you can select this strategy more precisely by providing a specific strategy to `truncation`.\n"
          ]
        },
        {
          "output_type": "stream",
          "name": "stdout",
          "text": [
            "Saving Bangla.xlsx to Bangla (1).xlsx\n"
          ]
        },
        {
          "output_type": "stream",
          "name": "stderr",
          "text": [
            "/usr/local/lib/python3.10/dist-packages/transformers/tokenization_utils_base.py:2870: FutureWarning: The `pad_to_max_length` argument is deprecated and will be removed in a future version, use `padding=True` or `padding='longest'` to pad to the longest sequence in the batch, or use `padding='max_length'` to pad to a max length. In this case, you can give a specific length with `max_length` (e.g. `max_length=45`) or leave max_length to None to pad to the maximal input size of the model (e.g. 512 for Bert).\n",
            "  warnings.warn(\n"
          ]
        }
      ],
      "source": [
        "import torch\n",
        "import pandas as pd\n",
        "import torch.nn.functional as F\n",
        "from sklearn.model_selection import train_test_split\n",
        "from transformers import AutoTokenizer, AdamW, get_linear_schedule_with_warmup\n",
        "from torch.utils.data import TensorDataset, DataLoader, RandomSampler, SequentialSampler\n",
        "import numpy as np\n",
        "from sklearn.metrics import f1_score, accuracy_score, precision_score, recall_score\n",
        "from tqdm import tqdm\n",
        "from google.colab import files\n",
        "from transformers import AutoModelForSequenceClassification\n",
        "\n",
        "# Load the XLM-RoBERTa tokenizer\n",
        "tokenizer = AutoTokenizer.from_pretrained(\"xlm-roberta-base\")\n",
        "\n",
        "# Assuming you're using Google Colab and uploaded a file\n",
        "uploaded = files.upload()\n",
        "\n",
        "# Read the Excel file\n",
        "df = pd.read_excel(pd.ExcelFile(list(uploaded.keys())[0]), header=0)\n",
        "df = df.sample(frac=0.4, random_state=42)\n",
        "# Tokenize the text data in the dataset\n",
        "tweets_column = 'tweets'\n",
        "labels_column = 'labels'\n",
        "NUM_LABELS = len(df[labels_column].unique())\n",
        "possible_labels = df[labels_column].unique()\n",
        "label_dict = {possible_label: index for index, possible_label in enumerate(possible_labels)}\n",
        "df['labels'] = df[labels_column].map(label_dict)\n",
        "\n",
        "\n",
        "# Split the dataset into labeled (20%), unlabeled (60%), and test (20%) sets\n",
        "df_labeled, df_temp = train_test_split(df, stratify=df[labels_column], test_size=0.6)\n",
        "df_unlabeled, df_test = train_test_split(df_temp, stratify=df_temp[labels_column], test_size=0.2)\n",
        "\n",
        "# Tokenize the labeled data for training\n",
        "encoded_data_train = tokenizer.batch_encode_plus(\n",
        "    df_labeled[tweets_column].tolist(),\n",
        "    add_special_tokens=True,\n",
        "    return_attention_mask=True,\n",
        "    pad_to_max_length=True,\n",
        "    max_length=256,\n",
        "    return_tensors='pt'\n",
        ")\n",
        "\n",
        "input_ids_train = encoded_data_train['input_ids']\n",
        "attention_masks_train = encoded_data_train['attention_mask']\n",
        "labels_train = torch.tensor(df_labeled['labels'].values)\n",
        "\n",
        "# Tokenize the unlabeled data\n",
        "encoded_data_unlabeled = tokenizer.batch_encode_plus(\n",
        "    df_unlabeled[tweets_column].tolist(),\n",
        "    add_special_tokens=True,\n",
        "    return_attention_mask=True,\n",
        "    pad_to_max_length=True,\n",
        "    max_length=256,\n",
        "    return_tensors='pt'\n",
        ")\n",
        "\n",
        "input_ids_unlabeled = encoded_data_unlabeled['input_ids']\n",
        "attention_masks_unlabeled = encoded_data_unlabeled['attention_mask']\n",
        "\n",
        "# Tokenize the test data\n",
        "encoded_data_test = tokenizer.batch_encode_plus(\n",
        "    df_test[tweets_column].tolist(),\n",
        "    add_special_tokens=True,\n",
        "    return_attention_mask=True,\n",
        "    pad_to_max_length=True,\n",
        "    max_length=256,\n",
        "    return_tensors='pt'\n",
        ")\n",
        "\n",
        "input_ids_test = encoded_data_test['input_ids']\n",
        "attention_masks_test = encoded_data_test['attention_mask']\n",
        "labels_test = torch.tensor(df_test['labels'].values)\n",
        "\n",
        "dataset_train = TensorDataset(input_ids_train, attention_masks_train, labels_train)\n",
        "dataset_unlabeled = TensorDataset(input_ids_unlabeled, attention_masks_unlabeled)\n",
        "dataset_test = TensorDataset(input_ids_test, attention_masks_test, labels_test)\n",
        "\n"
      ]
    },
    {
      "cell_type": "code",
      "source": [
        "# Define the XLM-RoBERTa model for sequence classification\n",
        "student_model = AutoModelForSequenceClassification.from_pretrained('xlm-roberta-base', num_labels=NUM_LABELS)\n",
        "teacher_model = AutoModelForSequenceClassification.from_pretrained('xlm-roberta-base', num_labels=NUM_LABELS)\n",
        "\n",
        "# Set up the device for training\n",
        "device = torch.device('cuda' if torch.cuda.is_available() else 'cpu')\n",
        "student_model.to(device)\n",
        "teacher_model.to(device)\n",
        "\n",
        "  # Define the batch size for training\n",
        "batch_size = 4\n",
        "\n",
        "# Set up the optimizer and scheduler for the teacher's pre-training\n",
        "teacher_optimizer = AdamW(teacher_model.parameters(), lr=1e-5, eps=1e-8)\n",
        "teacher_scheduler = get_linear_schedule_with_warmup(teacher_optimizer, num_warmup_steps=0, num_training_steps=len(dataset_train))\n",
        "\n",
        "# 1. Pre-train the teacher model on labeled data for 1 epoch\n",
        "teacher_model.train()\n",
        "pretrain_loss_total = 0\n",
        "\n",
        "# Pre-training loop for 1 epoch on labeled data\n",
        "tqdm.write(\"\\nStarting Teacher Pre-training (1 epoch on labeled data)\")\n",
        "progress_bar = tqdm(DataLoader(dataset_train, sampler=RandomSampler(dataset_train), batch_size=batch_size), desc='Teacher Pre-training', leave=False, disable=False)\n",
        "\n",
        "for batch in progress_bar:\n",
        "    teacher_model.zero_grad()\n",
        "    batch = tuple(b.to(device) for b in batch)\n",
        "    inputs = {'input_ids': batch[0], 'attention_mask': batch[1], 'labels': batch[2]}\n",
        "\n",
        "    outputs_teacher = teacher_model(**inputs)\n",
        "    loss_teacher = outputs_teacher.loss  # Supervised loss for teacher\n",
        "    pretrain_loss_total += loss_teacher.item()\n",
        "\n",
        "    loss_teacher.backward()\n",
        "    torch.nn.utils.clip_grad_norm_(teacher_model.parameters(), 1.0)\n",
        "    teacher_optimizer.step()\n",
        "    teacher_scheduler.step()\n",
        "\n",
        "progress_bar.set_postfix({'teacher_pretrain_loss': '{:.3f}'.format(pretrain_loss_total / len(dataset_train))})\n",
        "tqdm.write(f'Teacher Pre-training Loss: {pretrain_loss_total / len(dataset_train)}')\n",
        "\n",
        "\n",
        "# Set up the optimizer and scheduler\n",
        "optimizer = AdamW(student_model.parameters(), lr=1e-5, eps=1e-8)\n",
        "epochs = 10\n",
        "scheduler = get_linear_schedule_with_warmup(optimizer, num_warmup_steps=0, num_training_steps=len(dataset_train) * epochs)\n",
        "\n",
        "# Define accuracy and F1 score functions\n",
        "def compute_metrics(preds, labels):\n",
        "    preds_flat = np.argmax(preds, axis=1).flatten()\n",
        "    labels_flat = labels.flatten()\n",
        "    accuracy = accuracy_score(labels_flat, preds_flat)\n",
        "    f1 = f1_score(labels_flat, preds_flat, average='weighted')\n",
        "    precision = precision_score(labels_flat, preds_flat, average='weighted')\n",
        "    recall = recall_score(labels_flat, preds_flat, average='weighted')\n",
        "    return accuracy, f1, precision, recall\n",
        "\n",
        "# Training loop with Mean Teacher logic\n",
        "alpha = 0.95  # EMA decay rate\n",
        "\n",
        "for epoch in range(1, epochs + 1):\n",
        "    student_model.train()\n",
        "    loss_train_total = 0\n",
        "    progress_bar = tqdm(DataLoader(dataset_train, sampler=RandomSampler(dataset_train), batch_size=batch_size), desc='Epoch {:1d}'.format(epoch), leave=False, disable=False)\n",
        "\n",
        "    # Supervised loss on labeled data\n",
        "    for batch in progress_bar:\n",
        "        student_model.zero_grad()\n",
        "        batch = tuple(b.to(device) for b in batch)\n",
        "        inputs = {'input_ids': batch[0], 'attention_mask': batch[1], 'labels': batch[2]}\n",
        "\n",
        "        outputs_student = student_model(**inputs)\n",
        "        loss_supervised = outputs_student.loss  # Supervised loss for labeled data\n",
        "        logits_student = outputs_student.logits\n",
        "\n",
        "        loss_train_total += loss_supervised.item()\n",
        "\n",
        "        # Forward pass on unlabeled data for consistency loss\n",
        "        unlabeled_batch = next(iter(DataLoader(dataset_unlabeled, sampler=RandomSampler(dataset_unlabeled), batch_size=batch_size)))\n",
        "        unlabeled_batch = tuple(b.to(device) for b in unlabeled_batch)\n",
        "\n",
        "        # Student and teacher predictions on unlabeled data\n",
        "        with torch.no_grad():\n",
        "            outputs_teacher = teacher_model(input_ids=unlabeled_batch[0], attention_mask=unlabeled_batch[1])\n",
        "            logits_teacher = outputs_teacher.logits\n",
        "\n",
        "        outputs_student_unlabeled = student_model(input_ids=unlabeled_batch[0], attention_mask=unlabeled_batch[1])\n",
        "        logits_student_unlabeled = outputs_student_unlabeled.logits\n",
        "\n",
        "        # Consistency loss between student and teacher predictions on unlabeled data\n",
        "        consistency_loss = F.mse_loss(logits_student_unlabeled, logits_teacher)\n",
        "\n",
        "        # Total loss: Supervised (on labeled data) + Consistency loss (on unlabeled data)\n",
        "        total_loss = loss_supervised + consistency_loss\n",
        "        total_loss.backward()\n",
        "\n",
        "        torch.nn.utils.clip_grad_norm_(student_model.parameters(), 1.0)\n",
        "        optimizer.step()\n",
        "        scheduler.step()\n",
        "         # EMA update: apply after every student model update\n",
        "        with torch.no_grad():\n",
        "             for teacher_param, student_param in zip(teacher_model.parameters(), student_model.parameters()):\n",
        "                #  print(f'Teacher param: {teacher_param.data[0]}, Student param: {student_param.data[0]}')  # Example for logging\n",
        "                 teacher_param.data = alpha * teacher_param.data + (1.0 - alpha) * student_param.data\n",
        "        progress_bar.set_postfix({'training_loss': '{:.3f}'.format(total_loss.item() / len(batch))})\n",
        "\n",
        "    # Calculate average training loss\n",
        "    loss_train_avg = loss_train_total / len(dataset_train)\n",
        "    tqdm.write(f'\\nEpoch {epoch}')\n",
        "    tqdm.write(f'Training loss: {loss_train_avg}')\n",
        "\n",
        "    # Evaluation on validation data\n",
        "    student_model.eval()\n",
        "    teacher_model.eval()\n",
        "    loss_val_total = 0\n",
        "    predictions_student, true_vals = [], []\n",
        "    predictions_teacher = []\n",
        "\n",
        "    for batch in tqdm(DataLoader(dataset_test, sampler=SequentialSampler(dataset_test), batch_size=batch_size), desc='Evaluating', leave=False, disable=False):\n",
        "        batch = tuple(b.to(device) for b in batch)\n",
        "        inputs = {'input_ids': batch[0], 'attention_mask': batch[1], 'labels': batch[2]}\n",
        "        with torch.no_grad():\n",
        "            outputs_student = student_model(**inputs)\n",
        "            outputs_teacher = teacher_model(**inputs)\n",
        "            logits_student = outputs_student.logits\n",
        "            logits_teacher = outputs_teacher.logits\n",
        "\n",
        "        loss = outputs_student.loss\n",
        "        loss_val_total += loss.item()\n",
        "\n",
        "        logits_student = logits_student.detach().cpu().numpy()\n",
        "        logits_teacher = logits_teacher.detach().cpu().numpy()\n",
        "        label_ids = inputs['labels'].cpu().numpy()\n",
        "\n",
        "        predictions_student.append(logits_student)\n",
        "        predictions_teacher.append(logits_teacher)\n",
        "        true_vals.append(label_ids)\n",
        "\n",
        "    loss_val_avg = loss_val_total / len(dataset_test)\n",
        "\n",
        "    predictions_student = np.concatenate(predictions_student, axis=0)\n",
        "    predictions_teacher = np.concatenate(predictions_teacher, axis=0)\n",
        "    true_vals = np.concatenate(true_vals, axis=0)\n",
        "\n",
        "    val_accuracy_student, val_f1_student, val_precision_student, val_recall_student = compute_metrics(predictions_student, true_vals)\n",
        "    val_accuracy_teacher, val_f1_teacher, val_precision_teacher, val_recall_teacher = compute_metrics(predictions_teacher, true_vals)\n",
        "\n",
        "    tqdm.write(f'Validation loss: {loss_val_avg}')\n",
        "    tqdm.write(f'Student Model - Accuracy: {val_accuracy_student}, F1 Score: {val_f1_student}, Precision: {val_precision_student}, Recall: {val_recall_student}')\n",
        "    tqdm.write(f'Teacher Model - Accuracy: {val_accuracy_teacher}, F1 Score: {val_f1_teacher}, Precision: {val_precision_teacher}, Recall: {val_recall_teacher}')\n",
        "\n",
        "# Final model selection based on validation performance\n",
        "final_model = teacher_model\n",
        "# Evaluation on test data\n",
        "dataloader_test = DataLoader(dataset_test, sampler=RandomSampler(dataset_test), batch_size=batch_size)\n",
        "\n",
        "def evaluate_test(model, dataloader):\n",
        "    model.eval()\n",
        "    loss_test_total = 0\n",
        "    predictions, true_vals = [], []\n",
        "\n",
        "    for batch in tqdm(dataloader, desc='Testing', leave=False, disable=False):\n",
        "        batch = tuple(b.to(device) for b in batch)\n",
        "        inputs = {'input_ids': batch[0], 'attention_mask': batch[1], 'labels': batch[2]}\n",
        "        with torch.no_grad():\n",
        "            outputs = model(**inputs)\n",
        "        loss = outputs[0]\n",
        "        logits = outputs[1]\n",
        "        loss_test_total += loss.item()\n",
        "        logits = logits.detach().cpu().numpy()\n",
        "        label_ids = inputs['labels'].cpu().numpy()\n",
        "        predictions.append(logits)\n",
        "        true_vals.append(label_ids)\n",
        "\n",
        "    loss_test_avg = loss_test_total / len(dataloader)\n",
        "\n",
        "    predictions = np.concatenate(predictions, axis=0)\n",
        "    true_vals = np.concatenate(true_vals, axis=0)\n",
        "\n",
        "    return loss_test_avg, predictions, true_vals\n",
        "\n",
        "test_loss, test_predictions, test_true_vals = evaluate_test(final_model, dataloader_test)\n",
        "\n",
        "# Calculate evaluation metrics on test data\n",
        "test_accuracy, test_f1, test_precision, test_recall = compute_metrics(test_predictions, test_true_vals)\n",
        "\n",
        "# Print out the evaluation metrics on test data\n",
        "print(f'Testing Accuracy: {test_accuracy}')\n",
        "print(f'Testing F1 Score: {test_f1}')\n",
        "print(f'Testing Precision: {test_precision}')\n",
        "print(f'Testing Recall: {test_recall}')"
      ],
      "metadata": {
        "id": "sAQZdd4sStac",
        "colab": {
          "base_uri": "https://localhost:8080/"
        },
        "outputId": "1e863b8e-d59d-46ab-ebdf-dc239c9bd728"
      },
      "execution_count": 2,
      "outputs": [
        {
          "output_type": "stream",
          "name": "stderr",
          "text": [
            "Some weights of XLMRobertaForSequenceClassification were not initialized from the model checkpoint at xlm-roberta-base and are newly initialized: ['classifier.dense.bias', 'classifier.dense.weight', 'classifier.out_proj.bias', 'classifier.out_proj.weight']\n",
            "You should probably TRAIN this model on a down-stream task to be able to use it for predictions and inference.\n",
            "Some weights of XLMRobertaForSequenceClassification were not initialized from the model checkpoint at xlm-roberta-base and are newly initialized: ['classifier.dense.bias', 'classifier.dense.weight', 'classifier.out_proj.bias', 'classifier.out_proj.weight']\n",
            "You should probably TRAIN this model on a down-stream task to be able to use it for predictions and inference.\n",
            "/usr/local/lib/python3.10/dist-packages/transformers/optimization.py:591: FutureWarning: This implementation of AdamW is deprecated and will be removed in a future version. Use the PyTorch implementation torch.optim.AdamW instead, or set `no_deprecation_warning=True` to disable this warning\n",
            "  warnings.warn(\n"
          ]
        },
        {
          "output_type": "stream",
          "name": "stdout",
          "text": [
            "\n",
            "Starting Teacher Pre-training (1 epoch on labeled data)\n"
          ]
        },
        {
          "output_type": "stream",
          "name": "stderr",
          "text": []
        },
        {
          "output_type": "stream",
          "name": "stdout",
          "text": [
            "Teacher Pre-training Loss: 0.17530827347640018\n"
          ]
        },
        {
          "output_type": "stream",
          "name": "stderr",
          "text": []
        },
        {
          "output_type": "stream",
          "name": "stdout",
          "text": [
            "\n",
            "Epoch 1\n",
            "Training loss: 0.17566048643391602\n"
          ]
        },
        {
          "output_type": "stream",
          "name": "stderr",
          "text": [
            "/usr/local/lib/python3.10/dist-packages/sklearn/metrics/_classification.py:1471: UndefinedMetricWarning: Precision is ill-defined and being set to 0.0 in labels with no predicted samples. Use `zero_division` parameter to control this behavior.\n",
            "  _warn_prf(average, modifier, msg_start, len(result))\n",
            "/usr/local/lib/python3.10/dist-packages/sklearn/metrics/_classification.py:1471: UndefinedMetricWarning: Precision is ill-defined and being set to 0.0 in labels with no predicted samples. Use `zero_division` parameter to control this behavior.\n",
            "  _warn_prf(average, modifier, msg_start, len(result))\n"
          ]
        },
        {
          "output_type": "stream",
          "name": "stdout",
          "text": [
            "Validation loss: 0.17489271101198697\n",
            "Student Model - Accuracy: 0.5157894736842106, F1 Score: 0.3510233918128655, Precision: 0.26603878116343493, Recall: 0.5157894736842106\n",
            "Teacher Model - Accuracy: 0.5157894736842106, F1 Score: 0.3510233918128655, Precision: 0.26603878116343493, Recall: 0.5157894736842106\n"
          ]
        },
        {
          "output_type": "stream",
          "name": "stderr",
          "text": []
        },
        {
          "output_type": "stream",
          "name": "stdout",
          "text": [
            "\n",
            "Epoch 2\n",
            "Training loss: 0.17142405517541678\n"
          ]
        },
        {
          "output_type": "stream",
          "name": "stderr",
          "text": []
        },
        {
          "output_type": "stream",
          "name": "stdout",
          "text": [
            "Validation loss: 0.17342336930726704\n",
            "Student Model - Accuracy: 0.5052631578947369, F1 Score: 0.3462642620537357, Precision: 0.2633818589025756, Recall: 0.5052631578947369\n",
            "Teacher Model - Accuracy: 0.5052631578947369, F1 Score: 0.3462642620537357, Precision: 0.2633818589025756, Recall: 0.5052631578947369\n"
          ]
        },
        {
          "output_type": "stream",
          "name": "stderr",
          "text": []
        },
        {
          "output_type": "stream",
          "name": "stdout",
          "text": [
            "\n",
            "Epoch 3\n",
            "Training loss: 0.16588803319035061\n"
          ]
        },
        {
          "output_type": "stream",
          "name": "stderr",
          "text": []
        },
        {
          "output_type": "stream",
          "name": "stdout",
          "text": [
            "Validation loss: 0.16363330828516107\n",
            "Student Model - Accuracy: 0.6842105263157895, F1 Score: 0.6842105263157895, Precision: 0.6842105263157895, Recall: 0.6842105263157895\n",
            "Teacher Model - Accuracy: 0.6210526315789474, F1 Score: 0.600535236396075, Precision: 0.641706272369888, Recall: 0.6210526315789474\n"
          ]
        },
        {
          "output_type": "stream",
          "name": "stderr",
          "text": []
        },
        {
          "output_type": "stream",
          "name": "stdout",
          "text": [
            "\n",
            "Epoch 4\n",
            "Training loss: 0.13440692282406388\n"
          ]
        },
        {
          "output_type": "stream",
          "name": "stderr",
          "text": []
        },
        {
          "output_type": "stream",
          "name": "stdout",
          "text": [
            "Validation loss: 0.15356943732813785\n",
            "Student Model - Accuracy: 0.6842105263157895, F1 Score: 0.6795749536442732, Precision: 0.6906531866389137, Recall: 0.6842105263157895\n",
            "Teacher Model - Accuracy: 0.6842105263157895, F1 Score: 0.6828070175438598, Precision: 0.6912470879094755, Recall: 0.6842105263157895\n"
          ]
        },
        {
          "output_type": "stream",
          "name": "stderr",
          "text": []
        },
        {
          "output_type": "stream",
          "name": "stdout",
          "text": [
            "\n",
            "Epoch 5\n",
            "Training loss: 0.10269933053927058\n"
          ]
        },
        {
          "output_type": "stream",
          "name": "stderr",
          "text": []
        },
        {
          "output_type": "stream",
          "name": "stdout",
          "text": [
            "Validation loss: 0.1713252586753745\n",
            "Student Model - Accuracy: 0.6736842105263158, F1 Score: 0.667070446073522, Precision: 0.6960665888443385, Recall: 0.6736842105263158\n",
            "Teacher Model - Accuracy: 0.631578947368421, F1 Score: 0.6155735275437186, Precision: 0.6686959937156324, Recall: 0.631578947368421\n"
          ]
        },
        {
          "output_type": "stream",
          "name": "stderr",
          "text": []
        },
        {
          "output_type": "stream",
          "name": "stdout",
          "text": [
            "\n",
            "Epoch 6\n",
            "Training loss: 0.08725619585413462\n"
          ]
        },
        {
          "output_type": "stream",
          "name": "stderr",
          "text": []
        },
        {
          "output_type": "stream",
          "name": "stdout",
          "text": [
            "Validation loss: 0.22648409608947603\n",
            "Student Model - Accuracy: 0.6736842105263158, F1 Score: 0.6623716321251298, Precision: 0.7106072874493927, Recall: 0.6736842105263158\n",
            "Teacher Model - Accuracy: 0.631578947368421, F1 Score: 0.6119298245614035, Precision: 0.6774628879892038, Recall: 0.631578947368421\n"
          ]
        },
        {
          "output_type": "stream",
          "name": "stderr",
          "text": []
        },
        {
          "output_type": "stream",
          "name": "stdout",
          "text": [
            "\n",
            "Epoch 7\n",
            "Training loss: 0.07310125201489705\n"
          ]
        },
        {
          "output_type": "stream",
          "name": "stderr",
          "text": []
        },
        {
          "output_type": "stream",
          "name": "stdout",
          "text": [
            "Validation loss: 0.33397802490937084\n",
            "Student Model - Accuracy: 0.6210526315789474, F1 Score: 0.5943800178412132, Precision: 0.679392321383168, Recall: 0.6210526315789474\n",
            "Teacher Model - Accuracy: 0.6526315789473685, F1 Score: 0.6341052631578947, Precision: 0.7043184885290148, Recall: 0.6526315789473685\n"
          ]
        },
        {
          "output_type": "stream",
          "name": "stderr",
          "text": []
        },
        {
          "output_type": "stream",
          "name": "stdout",
          "text": [
            "\n",
            "Epoch 8\n",
            "Training loss: 0.06552541164005068\n"
          ]
        },
        {
          "output_type": "stream",
          "name": "stderr",
          "text": []
        },
        {
          "output_type": "stream",
          "name": "stdout",
          "text": [
            "Validation loss: 0.43063386761044203\n",
            "Student Model - Accuracy: 0.6631578947368421, F1 Score: 0.6500481974166186, Precision: 0.7025353352032119, Recall: 0.6631578947368421\n",
            "Teacher Model - Accuracy: 0.6631578947368421, F1 Score: 0.6469067405355494, Precision: 0.7122233688797156, Recall: 0.6631578947368421\n"
          ]
        },
        {
          "output_type": "stream",
          "name": "stderr",
          "text": []
        },
        {
          "output_type": "stream",
          "name": "stdout",
          "text": [
            "\n",
            "Epoch 9\n",
            "Training loss: 0.08024244525363805\n"
          ]
        },
        {
          "output_type": "stream",
          "name": "stderr",
          "text": []
        },
        {
          "output_type": "stream",
          "name": "stdout",
          "text": [
            "Validation loss: 0.5740320784211355\n",
            "Student Model - Accuracy: 0.6526315789473685, F1 Score: 0.6259899957017648, Precision: 0.7306744445172708, Recall: 0.6526315789473685\n",
            "Teacher Model - Accuracy: 0.6631578947368421, F1 Score: 0.643380585667337, Precision: 0.7237894736842104, Recall: 0.6631578947368421\n"
          ]
        },
        {
          "output_type": "stream",
          "name": "stderr",
          "text": []
        },
        {
          "output_type": "stream",
          "name": "stdout",
          "text": [
            "\n",
            "Epoch 10\n",
            "Training loss: 0.06979979830071074\n"
          ]
        },
        {
          "output_type": "stream",
          "name": "stderr",
          "text": []
        },
        {
          "output_type": "stream",
          "name": "stdout",
          "text": [
            "Validation loss: 0.7350981491348265\n",
            "Student Model - Accuracy: 0.6421052631578947, F1 Score: 0.612280701754386, Precision: 0.7234708392603129, Recall: 0.6421052631578947\n",
            "Teacher Model - Accuracy: 0.631578947368421, F1 Score: 0.603322722713993, Precision: 0.7005964475322803, Recall: 0.631578947368421\n"
          ]
        },
        {
          "output_type": "stream",
          "name": "stderr",
          "text": [
            "                                                        "
          ]
        },
        {
          "output_type": "stream",
          "name": "stdout",
          "text": [
            "Testing Accuracy: 0.631578947368421\n",
            "Testing F1 Score: 0.603322722713993\n",
            "Testing Precision: 0.7005964475322803\n",
            "Testing Recall: 0.631578947368421\n"
          ]
        },
        {
          "output_type": "stream",
          "name": "stderr",
          "text": [
            "\r"
          ]
        }
      ]
    },
    {
      "cell_type": "code",
      "source": [],
      "metadata": {
        "id": "Zmb7OvV4TyZQ"
      },
      "execution_count": null,
      "outputs": []
    }
  ]
}