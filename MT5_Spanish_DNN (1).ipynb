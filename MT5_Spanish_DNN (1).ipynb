{
 "cells": [
  {
   "cell_type": "code",
   "execution_count": 1,
   "id": "f094d089",
   "metadata": {},
   "outputs": [
    {
     "name": "stdout",
     "output_type": "stream",
     "text": [
      "Device: cpu\n"
     ]
    }
   ],
   "source": [
    "import os\n",
    "os.environ[\"CUDA_VISIBLE_DEVICES\"]=\"-1\"  # To disable GPU\n",
    "import torch\n",
    "# Check if CUDA (GPU) is available\n",
    "device = torch.device('cuda' if torch.cuda.is_available() else 'cpu')\n",
    "print(\"Device:\", device)\n"
   ]
  },
  {
   "cell_type": "code",
   "execution_count": 3,
   "id": "39a12c00",
   "metadata": {},
   "outputs": [
    {
     "name": "stderr",
     "output_type": "stream",
     "text": [
      "2024-03-29 23:32:50.585021: E tensorflow/stream_executor/cuda/cuda_driver.cc:265] failed call to cuInit: CUDA_ERROR_NO_DEVICE: no CUDA-capable device is detected\n",
      "2024-03-29 23:32:50.594335: I tensorflow/stream_executor/cuda/cuda_diagnostics.cc:169] retrieving CUDA diagnostic information for host: user\n",
      "2024-03-29 23:32:50.594366: I tensorflow/stream_executor/cuda/cuda_diagnostics.cc:176] hostname: user\n",
      "2024-03-29 23:32:50.594486: I tensorflow/stream_executor/cuda/cuda_diagnostics.cc:200] libcuda reported version is: 515.105.1\n",
      "2024-03-29 23:32:50.604463: I tensorflow/stream_executor/cuda/cuda_diagnostics.cc:204] kernel reported version is: 515.105.1\n",
      "2024-03-29 23:32:50.604476: I tensorflow/stream_executor/cuda/cuda_diagnostics.cc:310] kernel version seems to match DSO: 515.105.1\n",
      "2024-03-29 23:32:50.655712: I tensorflow/core/platform/cpu_feature_guard.cc:193] This TensorFlow binary is optimized with oneAPI Deep Neural Network Library (oneDNN) to use the following CPU instructions in performance-critical operations:  AVX2 AVX512F AVX512_VNNI FMA\n",
      "To enable them in other operations, rebuild TensorFlow with the appropriate compiler flags.\n"
     ]
    },
    {
     "name": "stdout",
     "output_type": "stream",
     "text": [
      "Epoch 1/10\n",
      "1515/1515 [==============================] - 105s 68ms/step - loss: 2.4346 - accuracy: 0.7739 - val_loss: 0.4929 - val_accuracy: 0.7598\n",
      "Epoch 2/10\n",
      "1515/1515 [==============================] - 101s 67ms/step - loss: 0.5509 - accuracy: 0.7065 - val_loss: 0.3285 - val_accuracy: 0.9541\n",
      "Epoch 3/10\n",
      "1515/1515 [==============================] - 101s 67ms/step - loss: 0.5295 - accuracy: 0.7227 - val_loss: 0.3360 - val_accuracy: 0.9538\n",
      "Epoch 4/10\n",
      "1515/1515 [==============================] - 101s 67ms/step - loss: 0.5297 - accuracy: 0.7186 - val_loss: 0.3470 - val_accuracy: 0.9538\n",
      "Epoch 5/10\n",
      "1515/1515 [==============================] - 101s 67ms/step - loss: 0.5265 - accuracy: 0.7182 - val_loss: 0.3228 - val_accuracy: 0.9541\n",
      "Epoch 6/10\n",
      "1515/1515 [==============================] - 101s 67ms/step - loss: 0.5285 - accuracy: 0.7223 - val_loss: 0.3259 - val_accuracy: 0.9532\n",
      "Epoch 7/10\n",
      "1515/1515 [==============================] - 101s 67ms/step - loss: 0.5241 - accuracy: 0.7184 - val_loss: 0.3230 - val_accuracy: 0.9469\n",
      "Epoch 8/10\n",
      "1515/1515 [==============================] - 101s 67ms/step - loss: 0.5408 - accuracy: 0.7191 - val_loss: 0.3363 - val_accuracy: 0.9513\n",
      "Epoch 9/10\n",
      "1515/1515 [==============================] - 101s 67ms/step - loss: 0.5261 - accuracy: 0.7179 - val_loss: 0.3361 - val_accuracy: 0.9517\n",
      "Epoch 10/10\n",
      "1515/1515 [==============================] - 101s 67ms/step - loss: 0.5266 - accuracy: 0.7167 - val_loss: 0.3201 - val_accuracy: 0.9543\n",
      "421/421 [==============================] - 8s 19ms/step - loss: 0.3186 - accuracy: 0.9538\n",
      "Test Accuracy: 0.9537855982780457\n"
     ]
    }
   ],
   "source": [
    "import pandas as pd\n",
    "import numpy as np\n",
    "from sklearn.model_selection import train_test_split\n",
    "from sklearn.preprocessing import LabelEncoder\n",
    "from tensorflow.keras.models import Sequential\n",
    "from tensorflow.keras.layers import Dense, Flatten, Dropout\n",
    "from tensorflow.keras.optimizers import Adam\n",
    "from sklearn.metrics import accuracy_score\n",
    "\n",
    "# Load the embeddings and labels\n",
    "embeddings_list = np.load(\"Embeddings/MT5/SPANISH/spanish_mt5_transliterated_train_embeds.npy\")\n",
    "label_list = np.load(\"Embeddings/MT5/SPANISH/spanish_mt5_transliterated_train_labels.npy\")\n",
    "\n",
    "# Encode the labels\n",
    "label_encoder = LabelEncoder()\n",
    "labels = label_encoder.fit_transform(label_list)\n",
    "\n",
    "# Split the data into train and test sets\n",
    "X_train, X_test, y_train, y_test = train_test_split(embeddings_list, labels, test_size=0.2, random_state=42)\n",
    "\n",
    "# Define a simple deep neural network model\n",
    "model = Sequential([\n",
    "    Flatten(input_shape=(X_train.shape[1:])),  # Flatten the 3D embeddings to 1D\n",
    "    Dense(256, activation='relu'),\n",
    "    Dropout(0.5),\n",
    "    Dense(128, activation='relu'),\n",
    "    Dropout(0.5),\n",
    "    Dense(1, activation='sigmoid')\n",
    "])\n",
    "\n",
    "# Compile the model\n",
    "model.compile(optimizer=Adam(learning_rate=0.001),\n",
    "              loss='binary_crossentropy',\n",
    "              metrics=['accuracy'])\n",
    "\n",
    "# Train the model\n",
    "model.fit(X_train, y_train, epochs=10, batch_size=32, validation_split=0.1)\n",
    "\n",
    "# Evaluate the model on test data\n",
    "test_loss, test_accuracy = model.evaluate(X_test, y_test)\n",
    "print(\"Test Accuracy:\", test_accuracy)\n"
   ]
  },
  {
   "cell_type": "code",
   "execution_count": 4,
   "id": "e144ef73",
   "metadata": {},
   "outputs": [
    {
     "name": "stdout",
     "output_type": "stream",
     "text": [
      "421/421 [==============================] - 8s 18ms/step\n",
      "Test Accuracy: 0.9537855709933873\n",
      "Precision: 0.9538657182866148\n",
      "Recall: 0.9537855709933873\n",
      "F1 Score: 0.9537902374793357\n"
     ]
    }
   ],
   "source": [
    "from sklearn.metrics import accuracy_score, precision_score, recall_score, f1_score\n",
    "\n",
    "y_pred = (model.predict(X_test) > 0.5).astype(\"int32\")  # Convert probabilities to binary predictions\n",
    "accuracy = accuracy_score(y_test, y_pred)\n",
    "precision = precision_score(y_test, y_pred,zero_division=0,average='weighted')\n",
    "recall = recall_score(y_test, y_pred,zero_division=0,average='weighted')\n",
    "f1 = f1_score(y_test, y_pred,zero_division=0,average='weighted')\n",
    "\n",
    "print(\"Test Accuracy:\", accuracy)\n",
    "print(\"Precision:\", precision)\n",
    "print(\"Recall:\", recall)\n",
    "print(\"F1 Score:\", f1)"
   ]
  },
  {
   "cell_type": "code",
   "execution_count": null,
   "id": "a97081f8",
   "metadata": {},
   "outputs": [],
   "source": []
  }
 ],
 "metadata": {
  "kernelspec": {
   "display_name": "Python 3 (ipykernel)",
   "language": "python",
   "name": "python3"
  },
  "language_info": {
   "codemirror_mode": {
    "name": "ipython",
    "version": 3
   },
   "file_extension": ".py",
   "mimetype": "text/x-python",
   "name": "python",
   "nbconvert_exporter": "python",
   "pygments_lexer": "ipython3",
   "version": "3.8.12"
  }
 },
 "nbformat": 4,
 "nbformat_minor": 5
}
